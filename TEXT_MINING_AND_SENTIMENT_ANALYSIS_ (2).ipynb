{
 "cells": [
  {
   "cell_type": "code",
   "execution_count": 1,
   "metadata": {
    "id": "3HZXSrQmgTyy"
   },
   "outputs": [],
   "source": [
    "#pip install wordcloud"
   ]
  },
  {
   "cell_type": "markdown",
   "metadata": {
    "id": "RQ7WeLf5QdAE"
   },
   "source": [
    "TOURIST ACCOMODATION REVIEW"
   ]
  },
  {
   "cell_type": "code",
   "execution_count": 2,
   "metadata": {
    "colab": {
     "base_uri": "https://localhost:8080/"
    },
    "id": "yMYeMb6k7XdL",
    "outputId": "2121e882-c4de-42e5-8a01-83ed7d0463fe",
    "scrolled": true
   },
   "outputs": [
    {
     "name": "stderr",
     "output_type": "stream",
     "text": [
      "[nltk_data] Downloading package stopwords to\n",
      "[nltk_data]     C:\\Users\\WV363MC\\AppData\\Roaming\\nltk_data...\n",
      "[nltk_data]   Package stopwords is already up-to-date!\n",
      "[nltk_data] Downloading package punkt to\n",
      "[nltk_data]     C:\\Users\\WV363MC\\AppData\\Roaming\\nltk_data...\n",
      "[nltk_data]   Package punkt is already up-to-date!\n",
      "[nltk_data] Downloading package wordnet to\n",
      "[nltk_data]     C:\\Users\\WV363MC\\AppData\\Roaming\\nltk_data...\n",
      "[nltk_data]   Package wordnet is already up-to-date!\n",
      "[nltk_data] Downloading package omw-1.4 to\n",
      "[nltk_data]     C:\\Users\\WV363MC\\AppData\\Roaming\\nltk_data...\n",
      "[nltk_data]   Package omw-1.4 is already up-to-date!\n",
      "[nltk_data] Downloading package vader_lexicon to\n",
      "[nltk_data]     C:\\Users\\WV363MC\\AppData\\Roaming\\nltk_data...\n",
      "[nltk_data]   Package vader_lexicon is already up-to-date!\n"
     ]
    }
   ],
   "source": [
    "#Install libraries\n",
    "import numpy as np\n",
    "import pandas as pd\n",
    "import matplotlib.pyplot as plt\n",
    "import re\n",
    "import seaborn as sns\n",
    "# importing all necessary modules\n",
    "from wordcloud import WordCloud, STOPWORDS\n",
    "import nltk\n",
    "nltk.download(['stopwords',\n",
    "               'punkt',\n",
    "               'wordnet',\n",
    "               'omw-1.4',\n",
    "               'vader_lexicon'\n",
    "               ])\n",
    "%matplotlib inline"
   ]
  },
  {
   "cell_type": "code",
   "execution_count": 3,
   "metadata": {
    "id": "X6NhOcKZ86ri"
   },
   "outputs": [],
   "source": [
    "#simple text example\n",
    "simple_text = 'This isn\\'t a real text, this is an example text... Notice this contains punctuation!!'"
   ]
  },
  {
   "cell_type": "code",
   "execution_count": 4,
   "metadata": {
    "colab": {
     "base_uri": "https://localhost:8080/"
    },
    "id": "y_2rWgvN-Ncy",
    "outputId": "0a295a76-c1a0-43f3-ca03-e0354587aff3"
   },
   "outputs": [
    {
     "name": "stdout",
     "output_type": "stream",
     "text": [
      "['This', \"isn't\", 'a', 'real', 'text', 'this', 'is', 'an', 'example', 'text', 'Notice', 'this', 'contains', 'punctuation']\n"
     ]
    }
   ],
   "source": [
    "#identify regular expression and apply tokenizer\n",
    "tokenizer = nltk.tokenize.RegexpTokenizer('[a-zA-Z0-9\\']+')\n",
    "\n",
    "tokenized_document = tokenizer.tokenize(simple_text)\n",
    "\n",
    "print(tokenized_document)"
   ]
  },
  {
   "cell_type": "code",
   "execution_count": 5,
   "metadata": {
    "colab": {
     "base_uri": "https://localhost:8080/"
    },
    "id": "9xR6k1Tv--ps",
    "outputId": "a00cdae2-2da1-4f0e-f9bc-978a8593770c"
   },
   "outputs": [
    {
     "name": "stdout",
     "output_type": "stream",
     "text": [
      "['i', 'me', 'my', 'myself', 'we', 'our', 'ours', 'ourselves', 'you', \"you're\", \"you've\", \"you'll\", \"you'd\", 'your', 'yours', 'yourself', 'yourselves', 'he', 'him', 'his', 'himself', 'she', \"she's\", 'her', 'hers', 'herself', 'it', \"it's\", 'its', 'itself', 'they', 'them', 'their', 'theirs', 'themselves', 'what', 'which', 'who', 'whom', 'this', 'that', \"that'll\", 'these', 'those', 'am', 'is', 'are', 'was', 'were', 'be', 'been', 'being', 'have', 'has', 'had', 'having', 'do', 'does', 'did', 'doing', 'a', 'an', 'the', 'and', 'but', 'if', 'or', 'because', 'as', 'until', 'while', 'of', 'at', 'by', 'for', 'with', 'about', 'against', 'between', 'into', 'through', 'during', 'before', 'after', 'above', 'below', 'to', 'from', 'up', 'down', 'in', 'out', 'on', 'off', 'over', 'under', 'again', 'further', 'then', 'once', 'here', 'there', 'when', 'where', 'why', 'how', 'all', 'any', 'both', 'each', 'few', 'more', 'most', 'other', 'some', 'such', 'no', 'nor', 'not', 'only', 'own', 'same', 'so', 'than', 'too', 'very', 's', 't', 'can', 'will', 'just', 'don', \"don't\", 'should', \"should've\", 'now', 'd', 'll', 'm', 'o', 're', 've', 'y', 'ain', 'aren', \"aren't\", 'couldn', \"couldn't\", 'didn', \"didn't\", 'doesn', \"doesn't\", 'hadn', \"hadn't\", 'hasn', \"hasn't\", 'haven', \"haven't\", 'isn', \"isn't\", 'ma', 'mightn', \"mightn't\", 'mustn', \"mustn't\", 'needn', \"needn't\", 'shan', \"shan't\", 'shouldn', \"shouldn't\", 'wasn', \"wasn't\", 'weren', \"weren't\", 'won', \"won't\", 'wouldn', \"wouldn't\"]\n"
     ]
    }
   ],
   "source": [
    "#identify stop words\n",
    "stop_words = nltk.corpus.stopwords.words('english')\n",
    "\n",
    "print(stop_words)"
   ]
  },
  {
   "cell_type": "code",
   "execution_count": 6,
   "metadata": {
    "colab": {
     "base_uri": "https://localhost:8080/"
    },
    "id": "IvzlDlln_sN1",
    "outputId": "4ab16b6b-29e0-4257-b808-1aa73b5bc766"
   },
   "outputs": [
    {
     "name": "stdout",
     "output_type": "stream",
     "text": [
      "['real', 'text', 'example', 'text', 'notice', 'contains', 'punctuation']\n"
     ]
    }
   ],
   "source": [
    "#Remove stopwords\n",
    "cleaned_tokens = []\n",
    "\n",
    "for word in tokenized_document:\n",
    "    word = word.lower()\n",
    "    if word not in stop_words:\n",
    "        cleaned_tokens.append(word)\n",
    "\n",
    "print(cleaned_tokens)"
   ]
  },
  {
   "cell_type": "code",
   "execution_count": 7,
   "metadata": {
    "colab": {
     "base_uri": "https://localhost:8080/"
    },
    "id": "h8GiS373_ag0",
    "outputId": "fed76e52-590f-4a1c-c55d-a31cb84da060"
   },
   "outputs": [
    {
     "name": "stdout",
     "output_type": "stream",
     "text": [
      "Lemmatized words:  ['cactus', 'sing', 'hop', 'rock', 'good', 'easily']\n",
      "Stemmed words:  ['cacti', 'sing', 'hop', 'rock', 'better', 'easili']\n"
     ]
    }
   ],
   "source": [
    "lemmatizer = nltk.stem.WordNetLemmatizer()\n",
    "stemmer = nltk.stem.PorterStemmer()\n",
    "\n",
    "words = ['cacti', 'sings', 'hopped', 'rocks', 'better', 'easily']\n",
    "pos = ['n', 'v', 'v', 'n', 'a', 'r']\n",
    "lemmatized_words = [lemmatizer.lemmatize(words[i], pos=pos[i]) for i in range(6)]\n",
    "stemmed_words = [stemmer.stem(word) for word in words]\n",
    "\n",
    "print(\"Lemmatized words: \", lemmatized_words)\n",
    "print(\"Stemmed words: \", stemmed_words)\n"
   ]
  },
  {
   "cell_type": "code",
   "execution_count": 8,
   "metadata": {
    "colab": {
     "base_uri": "https://localhost:8080/"
    },
    "id": "03BSpzXOa2eq",
    "outputId": "fa9c2985-3039-4063-e903-17c6ad2cdbe1"
   },
   "outputs": [
    {
     "name": "stdout",
     "output_type": "stream",
     "text": [
      "['real', 'text', 'exampl', 'text', 'notic', 'contain', 'punctuat']\n"
     ]
    }
   ],
   "source": [
    "#Stemming on example sentence\n",
    "stemmed_text = [stemmer.stem(word) for word in cleaned_tokens]\n",
    "\n",
    "print(stemmed_text)"
   ]
  },
  {
   "cell_type": "code",
   "execution_count": 9,
   "metadata": {
    "id": "63Rvpml1bGIb"
   },
   "outputs": [],
   "source": [
    "#Define preprocessing function\n",
    "def preprocess_text(text):\n",
    "  tokenized_document = nltk.tokenize.RegexpTokenizer('[a-zA-Z0-9\\']+').tokenize(text)\n",
    "  cleaned_tokens = [word.lower() for word in tokenized_document if word.lower() not in stop_words]\n",
    "  stemmed_text = [nltk.stem.PorterStemmer().stem(word) for word in cleaned_tokens]\n",
    "  return stemmed_text"
   ]
  },
  {
   "cell_type": "markdown",
   "metadata": {
    "id": "JmV3In-WnojL"
   },
   "source": [
    "TEXT MINING "
   ]
  },
  {
   "cell_type": "code",
   "execution_count": 10,
   "metadata": {
    "colab": {
     "base_uri": "https://localhost:8080/",
     "height": 206
    },
    "id": "x9iaiWzsnnhj",
    "outputId": "d1c226ea-aa15-4bc3-c6b2-8b67f3fc50bc"
   },
   "outputs": [
    {
     "data": {
      "text/html": [
       "<div>\n",
       "<style scoped>\n",
       "    .dataframe tbody tr th:only-of-type {\n",
       "        vertical-align: middle;\n",
       "    }\n",
       "\n",
       "    .dataframe tbody tr th {\n",
       "        vertical-align: top;\n",
       "    }\n",
       "\n",
       "    .dataframe thead th {\n",
       "        text-align: right;\n",
       "    }\n",
       "</style>\n",
       "<table border=\"1\" class=\"dataframe\">\n",
       "  <thead>\n",
       "    <tr style=\"text-align: right;\">\n",
       "      <th></th>\n",
       "      <th>ID</th>\n",
       "      <th>Review Date</th>\n",
       "      <th>Location</th>\n",
       "      <th>Hotel/Restaurant name</th>\n",
       "      <th>Review</th>\n",
       "    </tr>\n",
       "  </thead>\n",
       "  <tbody>\n",
       "    <tr>\n",
       "      <th>0</th>\n",
       "      <td>rn579778340</td>\n",
       "      <td>Reviewed 1 week ago</td>\n",
       "      <td>Kathu</td>\n",
       "      <td>Thong Dee The Kathu Brasserie</td>\n",
       "      <td>Just been for sunday roast lamb and beef truly...</td>\n",
       "    </tr>\n",
       "    <tr>\n",
       "      <th>1</th>\n",
       "      <td>rn576350875</td>\n",
       "      <td>Reviewed 3 weeks ago</td>\n",
       "      <td>Kathu</td>\n",
       "      <td>Thong Dee The Kathu Brasserie</td>\n",
       "      <td>Quietly set off the main road, nice atmosphere...</td>\n",
       "    </tr>\n",
       "    <tr>\n",
       "      <th>2</th>\n",
       "      <td>rn574921678</td>\n",
       "      <td>Reviewed 4 weeks ago</td>\n",
       "      <td>Kathu</td>\n",
       "      <td>Thong Dee The Kathu Brasserie</td>\n",
       "      <td>I made a reservation for a birthday two days i...</td>\n",
       "    </tr>\n",
       "    <tr>\n",
       "      <th>3</th>\n",
       "      <td>rn572905503</td>\n",
       "      <td>Reviewed April 12, 2018</td>\n",
       "      <td>Kathu</td>\n",
       "      <td>Thong Dee The Kathu Brasserie</td>\n",
       "      <td>We visit here regularly and never fail to be i...</td>\n",
       "    </tr>\n",
       "    <tr>\n",
       "      <th>4</th>\n",
       "      <td>rn572364712</td>\n",
       "      <td>Reviewed April 10, 2018</td>\n",
       "      <td>Kathu</td>\n",
       "      <td>Thong Dee The Kathu Brasserie</td>\n",
       "      <td>Visited this wonderful place on my travels and...</td>\n",
       "    </tr>\n",
       "  </tbody>\n",
       "</table>\n",
       "</div>"
      ],
      "text/plain": [
       "            ID               Review Date Location  \\\n",
       "0  rn579778340      Reviewed 1 week ago     Kathu   \n",
       "1  rn576350875     Reviewed 3 weeks ago     Kathu   \n",
       "2  rn574921678     Reviewed 4 weeks ago     Kathu   \n",
       "3  rn572905503  Reviewed April 12, 2018     Kathu   \n",
       "4  rn572364712  Reviewed April 10, 2018     Kathu   \n",
       "\n",
       "           Hotel/Restaurant name  \\\n",
       "0  Thong Dee The Kathu Brasserie   \n",
       "1  Thong Dee The Kathu Brasserie   \n",
       "2  Thong Dee The Kathu Brasserie   \n",
       "3  Thong Dee The Kathu Brasserie   \n",
       "4  Thong Dee The Kathu Brasserie   \n",
       "\n",
       "                                              Review  \n",
       "0  Just been for sunday roast lamb and beef truly...  \n",
       "1  Quietly set off the main road, nice atmosphere...  \n",
       "2  I made a reservation for a birthday two days i...  \n",
       "3  We visit here regularly and never fail to be i...  \n",
       "4  Visited this wonderful place on my travels and...  "
      ]
     },
     "execution_count": 10,
     "metadata": {},
     "output_type": "execute_result"
    }
   ],
   "source": [
    "data = pd.read_csv(\"tourist_accommodation_reviews.csv\", encoding='cp1252')\n",
    "\n",
    "data.head()"
   ]
  },
  {
   "cell_type": "code",
   "execution_count": 11,
   "metadata": {
    "colab": {
     "base_uri": "https://localhost:8080/"
    },
    "id": "NEXsIg-xOufr",
    "outputId": "b62c661a-9573-4f50-cc53-7feec834b430"
   },
   "outputs": [
    {
     "name": "stdout",
     "output_type": "stream",
     "text": [
      "<class 'pandas.core.frame.DataFrame'>\n",
      "RangeIndex: 53644 entries, 0 to 53643\n",
      "Data columns (total 5 columns):\n",
      " #   Column                 Non-Null Count  Dtype \n",
      "---  ------                 --------------  ----- \n",
      " 0   ID                     53644 non-null  object\n",
      " 1   Review Date            53644 non-null  object\n",
      " 2   Location               53644 non-null  object\n",
      " 3   Hotel/Restaurant name  53644 non-null  object\n",
      " 4   Review                 53644 non-null  object\n",
      "dtypes: object(5)\n",
      "memory usage: 2.0+ MB\n"
     ]
    }
   ],
   "source": [
    "data.info() #Spool dataset description:"
   ]
  },
  {
   "cell_type": "code",
   "execution_count": 12,
   "metadata": {
    "id": "jk3Jk23QTPxx"
   },
   "outputs": [],
   "source": [
    "data.rename(columns = {'Hotel/Restaurant name':'Business_name',}, inplace = True) #rename Hotel/Restaurant name column"
   ]
  },
  {
   "cell_type": "code",
   "execution_count": 13,
   "metadata": {
    "colab": {
     "base_uri": "https://localhost:8080/"
    },
    "id": "oHBqQpYKTl6k",
    "outputId": "97cb22b5-77e0-4503-e1f5-c7face722c65"
   },
   "outputs": [
    {
     "name": "stdout",
     "output_type": "stream",
     "text": [
      "<class 'pandas.core.frame.DataFrame'>\n",
      "RangeIndex: 53644 entries, 0 to 53643\n",
      "Data columns (total 5 columns):\n",
      " #   Column         Non-Null Count  Dtype \n",
      "---  ------         --------------  ----- \n",
      " 0   ID             53644 non-null  object\n",
      " 1   Review Date    53644 non-null  object\n",
      " 2   Location       53644 non-null  object\n",
      " 3   Business_name  53644 non-null  object\n",
      " 4   Review         53644 non-null  object\n",
      "dtypes: object(5)\n",
      "memory usage: 2.0+ MB\n"
     ]
    }
   ],
   "source": [
    "data.info() #confirm column name fixed"
   ]
  },
  {
   "cell_type": "code",
   "execution_count": 14,
   "metadata": {
    "colab": {
     "base_uri": "https://localhost:8080/"
    },
    "id": "y7WCyHsjLRtE",
    "outputId": "22318c50-eba8-4545-8f85-d354992efaba"
   },
   "outputs": [
    {
     "data": {
      "text/plain": [
       "537"
      ]
     },
     "execution_count": 14,
     "metadata": {},
     "output_type": "execute_result"
    }
   ],
   "source": [
    "data.Business_name.nunique() #Confirm unique values in the 'Business_name' Column:"
   ]
  },
  {
   "cell_type": "code",
   "execution_count": 15,
   "metadata": {
    "colab": {
     "base_uri": "https://localhost:8080/"
    },
    "id": "UHmjxjp-L1YF",
    "outputId": "9725b541-a288-4448-a7e0-c27f0b55d904"
   },
   "outputs": [
    {
     "data": {
      "text/plain": [
       "25"
      ]
     },
     "execution_count": 15,
     "metadata": {},
     "output_type": "execute_result"
    }
   ],
   "source": [
    "data.Location.nunique() #Confirm unique values in the 'Location' Column:"
   ]
  },
  {
   "cell_type": "code",
   "execution_count": 16,
   "metadata": {
    "colab": {
     "base_uri": "https://localhost:8080/"
    },
    "id": "W-MRUHM7lJQ1",
    "outputId": "190aaf3f-c1ff-48aa-8ef9-15337e645ecd"
   },
   "outputs": [
    {
     "data": {
      "text/plain": [
       "(3162, 5)"
      ]
     },
     "execution_count": 16,
     "metadata": {},
     "output_type": "execute_result"
    }
   ],
   "source": [
    "data_k = data[data[\"Location\"] == \" Kamala\"] #Confirm how many accomodations are in the Location ' Kamala' and store them in a new variable called data_k:\n",
    "data_k.shape"
   ]
  },
  {
   "cell_type": "code",
   "execution_count": 17,
   "metadata": {
    "colab": {
     "base_uri": "https://localhost:8080/"
    },
    "id": "CcQMU3G3MFLc",
    "outputId": "3248df12-70f2-4bba-8988-7172a323fd60"
   },
   "outputs": [
    {
     "data": {
      "text/plain": [
       "32"
      ]
     },
     "execution_count": 17,
     "metadata": {},
     "output_type": "execute_result"
    }
   ],
   "source": [
    "data_k.Business_name.nunique()"
   ]
  },
  {
   "cell_type": "code",
   "execution_count": 18,
   "metadata": {
    "colab": {
     "base_uri": "https://localhost:8080/"
    },
    "id": "wGHN45EpMGzc",
    "outputId": "6b5bcea1-3b5c-4882-cf77-bb17ed87bab5"
   },
   "outputs": [
    {
     "data": {
      "text/plain": [
       "1"
      ]
     },
     "execution_count": 18,
     "metadata": {},
     "output_type": "execute_result"
    }
   ],
   "source": [
    "data_k.Location.nunique()"
   ]
  },
  {
   "cell_type": "code",
   "execution_count": 19,
   "metadata": {
    "colab": {
     "base_uri": "https://localhost:8080/",
     "height": 424
    },
    "id": "mKMtq-WTk7jB",
    "outputId": "0281e1ae-5c64-4f53-f111-c86470332375"
   },
   "outputs": [
    {
     "data": {
      "text/html": [
       "<div>\n",
       "<style scoped>\n",
       "    .dataframe tbody tr th:only-of-type {\n",
       "        vertical-align: middle;\n",
       "    }\n",
       "\n",
       "    .dataframe tbody tr th {\n",
       "        vertical-align: top;\n",
       "    }\n",
       "\n",
       "    .dataframe thead th {\n",
       "        text-align: right;\n",
       "    }\n",
       "</style>\n",
       "<table border=\"1\" class=\"dataframe\">\n",
       "  <thead>\n",
       "    <tr style=\"text-align: right;\">\n",
       "      <th></th>\n",
       "      <th>ID</th>\n",
       "      <th>Review Date</th>\n",
       "      <th>Location</th>\n",
       "      <th>Business_name</th>\n",
       "      <th>Review</th>\n",
       "    </tr>\n",
       "  </thead>\n",
       "  <tbody>\n",
       "    <tr>\n",
       "      <th>6138</th>\n",
       "      <td>rn580448653</td>\n",
       "      <td>Reviewed 5 days ago</td>\n",
       "      <td>Kamala</td>\n",
       "      <td>Grill Bill</td>\n",
       "      <td>The best place to eat when you want time out f...</td>\n",
       "    </tr>\n",
       "    <tr>\n",
       "      <th>6139</th>\n",
       "      <td>rn580335133</td>\n",
       "      <td>Reviewed 5 days ago</td>\n",
       "      <td>Kamala</td>\n",
       "      <td>Grill Bill</td>\n",
       "      <td>Grill Bill is a amazing cozy place with a warm...</td>\n",
       "    </tr>\n",
       "    <tr>\n",
       "      <th>6140</th>\n",
       "      <td>rn579799722</td>\n",
       "      <td>Reviewed 1 week ago</td>\n",
       "      <td>Kamala</td>\n",
       "      <td>Grill Bill</td>\n",
       "      <td>After seeing that Grill Bill was the number on...</td>\n",
       "    </tr>\n",
       "    <tr>\n",
       "      <th>6141</th>\n",
       "      <td>rn578695769</td>\n",
       "      <td>Reviewed 1 week ago</td>\n",
       "      <td>Kamala</td>\n",
       "      <td>Grill Bill</td>\n",
       "      <td>3 persons ordered Angus Beef steak 800 baht ea...</td>\n",
       "    </tr>\n",
       "    <tr>\n",
       "      <th>6142</th>\n",
       "      <td>rn577118778</td>\n",
       "      <td>Reviewed 2 weeks ago</td>\n",
       "      <td>Kamala</td>\n",
       "      <td>Grill Bill</td>\n",
       "      <td>Very fast and friendly service, tasty BBQ, but...</td>\n",
       "    </tr>\n",
       "    <tr>\n",
       "      <th>...</th>\n",
       "      <td>...</td>\n",
       "      <td>...</td>\n",
       "      <td>...</td>\n",
       "      <td>...</td>\n",
       "      <td>...</td>\n",
       "    </tr>\n",
       "    <tr>\n",
       "      <th>52475</th>\n",
       "      <td>rn337159219</td>\n",
       "      <td>Reviewed January 4, 2016</td>\n",
       "      <td>Kamala</td>\n",
       "      <td>Karon Seafood</td>\n",
       "      <td>This is a busy restaurant but the service is v...</td>\n",
       "    </tr>\n",
       "    <tr>\n",
       "      <th>52476</th>\n",
       "      <td>rn335662582</td>\n",
       "      <td>Reviewed December 29, 2015</td>\n",
       "      <td>Kamala</td>\n",
       "      <td>Karon Seafood</td>\n",
       "      <td>It was our first night in Karon and we didn't ...</td>\n",
       "    </tr>\n",
       "    <tr>\n",
       "      <th>52477</th>\n",
       "      <td>rn334004242</td>\n",
       "      <td>Reviewed December 20, 2015</td>\n",
       "      <td>Kamala</td>\n",
       "      <td>Karon Seafood</td>\n",
       "      <td>We unfortunately didn't read trip-advisor befo...</td>\n",
       "    </tr>\n",
       "    <tr>\n",
       "      <th>52478</th>\n",
       "      <td>rn329307909</td>\n",
       "      <td>Reviewed November 26, 2015</td>\n",
       "      <td>Kamala</td>\n",
       "      <td>Karon Seafood</td>\n",
       "      <td>Ordered springrolls, phad tai and red curry.\\r...</td>\n",
       "    </tr>\n",
       "    <tr>\n",
       "      <th>52479</th>\n",
       "      <td>rn327353302</td>\n",
       "      <td>Reviewed November 17, 2015</td>\n",
       "      <td>Kamala</td>\n",
       "      <td>Karon Seafood</td>\n",
       "      <td>Just that simply adequate. Caters for all sort...</td>\n",
       "    </tr>\n",
       "  </tbody>\n",
       "</table>\n",
       "<p>3162 rows × 5 columns</p>\n",
       "</div>"
      ],
      "text/plain": [
       "                ID                  Review Date Location  Business_name  \\\n",
       "6138   rn580448653         Reviewed 5 days ago    Kamala     Grill Bill   \n",
       "6139   rn580335133         Reviewed 5 days ago    Kamala     Grill Bill   \n",
       "6140   rn579799722         Reviewed 1 week ago    Kamala     Grill Bill   \n",
       "6141   rn578695769         Reviewed 1 week ago    Kamala     Grill Bill   \n",
       "6142   rn577118778        Reviewed 2 weeks ago    Kamala     Grill Bill   \n",
       "...            ...                          ...      ...            ...   \n",
       "52475  rn337159219    Reviewed January 4, 2016    Kamala  Karon Seafood   \n",
       "52476  rn335662582  Reviewed December 29, 2015    Kamala  Karon Seafood   \n",
       "52477  rn334004242  Reviewed December 20, 2015    Kamala  Karon Seafood   \n",
       "52478  rn329307909  Reviewed November 26, 2015    Kamala  Karon Seafood   \n",
       "52479  rn327353302  Reviewed November 17, 2015    Kamala  Karon Seafood   \n",
       "\n",
       "                                                  Review  \n",
       "6138   The best place to eat when you want time out f...  \n",
       "6139   Grill Bill is a amazing cozy place with a warm...  \n",
       "6140   After seeing that Grill Bill was the number on...  \n",
       "6141   3 persons ordered Angus Beef steak 800 baht ea...  \n",
       "6142   Very fast and friendly service, tasty BBQ, but...  \n",
       "...                                                  ...  \n",
       "52475  This is a busy restaurant but the service is v...  \n",
       "52476  It was our first night in Karon and we didn't ...  \n",
       "52477  We unfortunately didn't read trip-advisor befo...  \n",
       "52478  Ordered springrolls, phad tai and red curry.\\r...  \n",
       "52479  Just that simply adequate. Caters for all sort...  \n",
       "\n",
       "[3162 rows x 5 columns]"
      ]
     },
     "execution_count": 19,
     "metadata": {},
     "output_type": "execute_result"
    }
   ],
   "source": [
    "data_k"
   ]
  },
  {
   "cell_type": "code",
   "execution_count": 20,
   "metadata": {
    "colab": {
     "base_uri": "https://localhost:8080/"
    },
    "id": "uT7GM1nmUUhy",
    "outputId": "1d027e3e-1fed-4aa2-eec4-931a280c5f9d"
   },
   "outputs": [
    {
     "data": {
      "text/plain": [
       "Location\n",
       " Kamala    3162\n",
       "Name: Business_name, dtype: int64"
      ]
     },
     "execution_count": 20,
     "metadata": {},
     "output_type": "execute_result"
    }
   ],
   "source": [
    "data_k.groupby(\"Location\")[\"Business_name\"].count() #Explore the data further to see how many locations exist:"
   ]
  },
  {
   "cell_type": "code",
   "execution_count": 21,
   "metadata": {
    "colab": {
     "base_uri": "https://localhost:8080/"
    },
    "id": "7QUqff7KW2HF",
    "outputId": "592ed03e-6e53-4f05-fb06-d0870c5cc80c"
   },
   "outputs": [
    {
     "data": {
      "text/plain": [
       "Business_name\n",
       "Baan Mai                                                         100\n",
       "Baan Rim Pa Kalim                                                100\n",
       "Bellini                                                           95\n",
       "Bianconero da Tuveri Restaurant & Pizzeria                        98\n",
       "Blue Manao                                                       100\n",
       "Bush Garden Kamala<U+200B>                                        99\n",
       "Cafe del Mar Phuket                                              100\n",
       "Danny's Place Kamala                                              97\n",
       "Grill Bill                                                       100\n",
       "H.C. Andersen - Family Restaurant                                100\n",
       "HQ Beach Lounge                                                  100\n",
       "Heaven                                                            95\n",
       "Hey Ha Bar & Restaurant                                           95\n",
       "Kaab Gluay                                                       100\n",
       "Karon Seafood                                                    100\n",
       "Mamma Mia Grill & Restaurant Kamala                              100\n",
       "Napoli Ristorante Pizzeria                                       100\n",
       "Ohlala                                                           100\n",
       "Oiy Restaurant                                                    97\n",
       "Pond Restaurant                                                   94\n",
       "SILK Restaurant & Bar                                            100\n",
       "Salt & Pepper Restaurant Steakhouse Pizzeria                      93\n",
       "Smile Bar                                                        100\n",
       "Sweet Dream Restaurant                                           100\n",
       "THE DECK                                                         100\n",
       "Tantra                                                           100\n",
       "The Greek Tavern                                                 100\n",
       "The Place                                                        100\n",
       "Top Of The Reef at Cape Panwa Hotel                              100\n",
       "Vanilla Sky Bar & Gastro Pub - Cape Sienna - Phuket, Thailand     99\n",
       "White Orchid                                                     100\n",
       "Wine Connection Deli & Bistro - Central Phuket                   100\n",
       "Name: Location, dtype: int64"
      ]
     },
     "execution_count": 21,
     "metadata": {},
     "output_type": "execute_result"
    }
   ],
   "source": [
    "data_k.groupby(\"Business_name\")[\"Location\"].count() #see how many business are represented:"
   ]
  },
  {
   "cell_type": "code",
   "execution_count": 22,
   "metadata": {
    "colab": {
     "base_uri": "https://localhost:8080/",
     "height": 990
    },
    "id": "N2fDBUAPWu_3",
    "outputId": "5c3aa01d-3387-415f-ac4f-576fa0535b68"
   },
   "outputs": [
    {
     "data": {
      "text/html": [
       "<div>\n",
       "<style scoped>\n",
       "    .dataframe tbody tr th:only-of-type {\n",
       "        vertical-align: middle;\n",
       "    }\n",
       "\n",
       "    .dataframe tbody tr th {\n",
       "        vertical-align: top;\n",
       "    }\n",
       "\n",
       "    .dataframe thead th {\n",
       "        text-align: right;\n",
       "    }\n",
       "</style>\n",
       "<table border=\"1\" class=\"dataframe\">\n",
       "  <thead>\n",
       "    <tr style=\"text-align: right;\">\n",
       "      <th></th>\n",
       "      <th>ID</th>\n",
       "      <th>Review Date</th>\n",
       "      <th>Location</th>\n",
       "      <th>Business_name</th>\n",
       "      <th>Review</th>\n",
       "    </tr>\n",
       "  </thead>\n",
       "  <tbody>\n",
       "    <tr>\n",
       "      <th>6138</th>\n",
       "      <td>rn580448653</td>\n",
       "      <td>Reviewed 5 days ago</td>\n",
       "      <td>Kamala</td>\n",
       "      <td>Grill Bill</td>\n",
       "      <td>The best place to eat when you want time out f...</td>\n",
       "    </tr>\n",
       "    <tr>\n",
       "      <th>32056</th>\n",
       "      <td>rn526703384</td>\n",
       "      <td>Reviewed September 23, 2017</td>\n",
       "      <td>Kamala</td>\n",
       "      <td>Mamma Mia Grill &amp; Restaurant Kamala</td>\n",
       "      <td>Watch the sunset on the beach while dining at ...</td>\n",
       "    </tr>\n",
       "    <tr>\n",
       "      <th>32031</th>\n",
       "      <td>rn191430878</td>\n",
       "      <td>Reviewed January 20, 2014</td>\n",
       "      <td>Kamala</td>\n",
       "      <td>Ohlala</td>\n",
       "      <td>Ate here twice and it was great. Wifi, really ...</td>\n",
       "    </tr>\n",
       "    <tr>\n",
       "      <th>31638</th>\n",
       "      <td>rn566441766</td>\n",
       "      <td>Reviewed March 14, 2018</td>\n",
       "      <td>Kamala</td>\n",
       "      <td>Pond Restaurant</td>\n",
       "      <td>The glass noodles were very good! Service was ...</td>\n",
       "    </tr>\n",
       "    <tr>\n",
       "      <th>33703</th>\n",
       "      <td>rn540883385</td>\n",
       "      <td>Reviewed November 14, 2017</td>\n",
       "      <td>Kamala</td>\n",
       "      <td>Bellini</td>\n",
       "      <td>Been twice during my short stay in Chalong and...</td>\n",
       "    </tr>\n",
       "    <tr>\n",
       "      <th>33505</th>\n",
       "      <td>rn334852372</td>\n",
       "      <td>Reviewed December 24, 2015</td>\n",
       "      <td>Kamala</td>\n",
       "      <td>Kaab Gluay</td>\n",
       "      <td>Thai restaurant with great Thai Food and great...</td>\n",
       "    </tr>\n",
       "    <tr>\n",
       "      <th>25404</th>\n",
       "      <td>rn545169206</td>\n",
       "      <td>Reviewed December 4, 2017</td>\n",
       "      <td>Kamala</td>\n",
       "      <td>THE DECK</td>\n",
       "      <td>The only reason to eat here is the view and th...</td>\n",
       "    </tr>\n",
       "    <tr>\n",
       "      <th>23989</th>\n",
       "      <td>rn447144614</td>\n",
       "      <td>Reviewed December 28, 2016</td>\n",
       "      <td>Kamala</td>\n",
       "      <td>Smile Bar</td>\n",
       "      <td>Came twice in two days. All dishes are freshly...</td>\n",
       "    </tr>\n",
       "    <tr>\n",
       "      <th>23692</th>\n",
       "      <td>rn404831099</td>\n",
       "      <td>Reviewed August 13, 2016</td>\n",
       "      <td>Kamala</td>\n",
       "      <td>HQ Beach Lounge</td>\n",
       "      <td>This beach club is very cool, the DJ was great...</td>\n",
       "    </tr>\n",
       "    <tr>\n",
       "      <th>29640</th>\n",
       "      <td>rn249361762</td>\n",
       "      <td>Reviewed January 14, 2015</td>\n",
       "      <td>Kamala</td>\n",
       "      <td>Sweet Dream Restaurant</td>\n",
       "      <td>Stopped here last night for a casual dinner. I...</td>\n",
       "    </tr>\n",
       "    <tr>\n",
       "      <th>47480</th>\n",
       "      <td>rn525121010</td>\n",
       "      <td>Reviewed September 17, 2017</td>\n",
       "      <td>Kamala</td>\n",
       "      <td>Wine Connection Deli &amp; Bistro - Central Phuket</td>\n",
       "      <td>We had order beaf steak and red wine and ham p...</td>\n",
       "    </tr>\n",
       "    <tr>\n",
       "      <th>47255</th>\n",
       "      <td>rn562079885</td>\n",
       "      <td>Reviewed February 22, 2018</td>\n",
       "      <td>Kamala</td>\n",
       "      <td>Heaven</td>\n",
       "      <td>Food isn’t bad but it isn’t as good as adverti...</td>\n",
       "    </tr>\n",
       "    <tr>\n",
       "      <th>43210</th>\n",
       "      <td>rn246373500</td>\n",
       "      <td>Reviewed December 29, 2014</td>\n",
       "      <td>Kamala</td>\n",
       "      <td>Top Of The Reef at Cape Panwa Hotel</td>\n",
       "      <td>The restaurant had a happy hour from 1830 to 1...</td>\n",
       "    </tr>\n",
       "    <tr>\n",
       "      <th>52407</th>\n",
       "      <td>rn523904028</td>\n",
       "      <td>Reviewed September 12, 2017</td>\n",
       "      <td>Kamala</td>\n",
       "      <td>Karon Seafood</td>\n",
       "      <td>Had a great pizza here. Our wait staff was ver...</td>\n",
       "    </tr>\n",
       "    <tr>\n",
       "      <th>50437</th>\n",
       "      <td>rn508287129</td>\n",
       "      <td>Reviewed August 2, 2017</td>\n",
       "      <td>Kamala</td>\n",
       "      <td>Salt &amp; Pepper Restaurant Steakhouse Pizzeria</td>\n",
       "      <td>Visited early August 2017.\\r\\nNice restaraunt ...</td>\n",
       "    </tr>\n",
       "    <tr>\n",
       "      <th>42269</th>\n",
       "      <td>rn569038959</td>\n",
       "      <td>Reviewed March 27, 2018</td>\n",
       "      <td>Kamala</td>\n",
       "      <td>Cafe del Mar Phuket</td>\n",
       "      <td>Nice beach club with very nice service at the ...</td>\n",
       "    </tr>\n",
       "    <tr>\n",
       "      <th>40971</th>\n",
       "      <td>rn509973717</td>\n",
       "      <td>Reviewed August 8, 2017</td>\n",
       "      <td>Kamala</td>\n",
       "      <td>Danny's Place Kamala</td>\n",
       "      <td>Frankly, this was a disappointment. I ordered ...</td>\n",
       "    </tr>\n",
       "    <tr>\n",
       "      <th>42443</th>\n",
       "      <td>rn177765988</td>\n",
       "      <td>Reviewed September 19, 2013</td>\n",
       "      <td>Kamala</td>\n",
       "      <td>H.C. Andersen - Family Restaurant</td>\n",
       "      <td>I have been here through several years with my...</td>\n",
       "    </tr>\n",
       "    <tr>\n",
       "      <th>11827</th>\n",
       "      <td>rn559497866</td>\n",
       "      <td>Reviewed February 9, 2018</td>\n",
       "      <td>Kamala</td>\n",
       "      <td>Blue Manao</td>\n",
       "      <td>We met our German friends and they turned us o...</td>\n",
       "    </tr>\n",
       "    <tr>\n",
       "      <th>9410</th>\n",
       "      <td>rn559998478</td>\n",
       "      <td>Reviewed February 12, 2018</td>\n",
       "      <td>Kamala</td>\n",
       "      <td>Bianconero da Tuveri Restaurant &amp; Pizzeria</td>\n",
       "      <td>Food, is amazing, nice place and the owner is ...</td>\n",
       "    </tr>\n",
       "    <tr>\n",
       "      <th>8423</th>\n",
       "      <td>rn384892335</td>\n",
       "      <td>Reviewed June 22, 2016</td>\n",
       "      <td>Kamala</td>\n",
       "      <td>SILK Restaurant &amp; Bar</td>\n",
       "      <td>&lt;U+9910&gt;&lt;U+5385&gt;&lt;U+73AF&gt;&lt;U+5883&gt;&lt;U+975E&gt;&lt;U+5E3...</td>\n",
       "    </tr>\n",
       "    <tr>\n",
       "      <th>13523</th>\n",
       "      <td>rn566841458</td>\n",
       "      <td>Reviewed March 16, 2018</td>\n",
       "      <td>Kamala</td>\n",
       "      <td>Tantra</td>\n",
       "      <td>Great place to have Indian food , situated at ...</td>\n",
       "    </tr>\n",
       "    <tr>\n",
       "      <th>12699</th>\n",
       "      <td>rn565266433</td>\n",
       "      <td>Reviewed March 8, 2018</td>\n",
       "      <td>Kamala</td>\n",
       "      <td>Hey Ha Bar &amp; Restaurant</td>\n",
       "      <td>Nice service and food plus good location, my s...</td>\n",
       "    </tr>\n",
       "    <tr>\n",
       "      <th>7956</th>\n",
       "      <td>rn502386361</td>\n",
       "      <td>Reviewed July 16, 2017</td>\n",
       "      <td>Kamala</td>\n",
       "      <td>The Greek Tavern</td>\n",
       "      <td>We had the most amazing dinner date at The Gre...</td>\n",
       "    </tr>\n",
       "    <tr>\n",
       "      <th>8324</th>\n",
       "      <td>rn191407427</td>\n",
       "      <td>Reviewed January 20, 2014</td>\n",
       "      <td>Kamala</td>\n",
       "      <td>Vanilla Sky Bar &amp; Gastro Pub - Cape Sienna - P...</td>\n",
       "      <td>The drinks here are great! With the ocean wave...</td>\n",
       "    </tr>\n",
       "    <tr>\n",
       "      <th>23219</th>\n",
       "      <td>rn506003239</td>\n",
       "      <td>Reviewed July 26, 2017</td>\n",
       "      <td>Kamala</td>\n",
       "      <td>White Orchid</td>\n",
       "      <td>We visited the White Orchid Restaurant on our ...</td>\n",
       "    </tr>\n",
       "    <tr>\n",
       "      <th>21899</th>\n",
       "      <td>rn457768556</td>\n",
       "      <td>Reviewed February 6, 2017</td>\n",
       "      <td>Kamala</td>\n",
       "      <td>Napoli Ristorante Pizzeria</td>\n",
       "      <td>Authentic Italian food great service\\r\\nHighly...</td>\n",
       "    </tr>\n",
       "    <tr>\n",
       "      <th>19729</th>\n",
       "      <td>rn445572555</td>\n",
       "      <td>Reviewed December 20, 2016</td>\n",
       "      <td>Kamala</td>\n",
       "      <td>Baan Rim Pa Kalim</td>\n",
       "      <td>Great atmosphere, piano man playing music, del...</td>\n",
       "    </tr>\n",
       "    <tr>\n",
       "      <th>23493</th>\n",
       "      <td>rn555813453</td>\n",
       "      <td>Reviewed January 23, 2018</td>\n",
       "      <td>Kamala</td>\n",
       "      <td>Oiy Restaurant</td>\n",
       "      <td>Check my TripAdvisor it was easy to see why Oi...</td>\n",
       "    </tr>\n",
       "    <tr>\n",
       "      <th>14090</th>\n",
       "      <td>rn581324247</td>\n",
       "      <td>Reviewed yesterday</td>\n",
       "      <td>Kamala</td>\n",
       "      <td>The Place</td>\n",
       "      <td>We ate in and around Patong for 7 days and wer...</td>\n",
       "    </tr>\n",
       "  </tbody>\n",
       "</table>\n",
       "</div>"
      ],
      "text/plain": [
       "                ID                   Review Date Location  \\\n",
       "6138   rn580448653          Reviewed 5 days ago    Kamala   \n",
       "32056  rn526703384  Reviewed September 23, 2017    Kamala   \n",
       "32031  rn191430878    Reviewed January 20, 2014    Kamala   \n",
       "31638  rn566441766      Reviewed March 14, 2018    Kamala   \n",
       "33703  rn540883385   Reviewed November 14, 2017    Kamala   \n",
       "33505  rn334852372   Reviewed December 24, 2015    Kamala   \n",
       "25404  rn545169206    Reviewed December 4, 2017    Kamala   \n",
       "23989  rn447144614   Reviewed December 28, 2016    Kamala   \n",
       "23692  rn404831099     Reviewed August 13, 2016    Kamala   \n",
       "29640  rn249361762    Reviewed January 14, 2015    Kamala   \n",
       "47480  rn525121010  Reviewed September 17, 2017    Kamala   \n",
       "47255  rn562079885   Reviewed February 22, 2018    Kamala   \n",
       "43210  rn246373500   Reviewed December 29, 2014    Kamala   \n",
       "52407  rn523904028  Reviewed September 12, 2017    Kamala   \n",
       "50437  rn508287129      Reviewed August 2, 2017    Kamala   \n",
       "42269  rn569038959      Reviewed March 27, 2018    Kamala   \n",
       "40971  rn509973717      Reviewed August 8, 2017    Kamala   \n",
       "42443  rn177765988  Reviewed September 19, 2013    Kamala   \n",
       "11827  rn559497866    Reviewed February 9, 2018    Kamala   \n",
       "9410   rn559998478   Reviewed February 12, 2018    Kamala   \n",
       "8423   rn384892335       Reviewed June 22, 2016    Kamala   \n",
       "13523  rn566841458      Reviewed March 16, 2018    Kamala   \n",
       "12699  rn565266433       Reviewed March 8, 2018    Kamala   \n",
       "7956   rn502386361       Reviewed July 16, 2017    Kamala   \n",
       "8324   rn191407427    Reviewed January 20, 2014    Kamala   \n",
       "23219  rn506003239       Reviewed July 26, 2017    Kamala   \n",
       "21899  rn457768556    Reviewed February 6, 2017    Kamala   \n",
       "19729  rn445572555   Reviewed December 20, 2016    Kamala   \n",
       "23493  rn555813453    Reviewed January 23, 2018    Kamala   \n",
       "14090  rn581324247           Reviewed yesterday    Kamala   \n",
       "\n",
       "                                           Business_name  \\\n",
       "6138                                          Grill Bill   \n",
       "32056                Mamma Mia Grill & Restaurant Kamala   \n",
       "32031                                             Ohlala   \n",
       "31638                                    Pond Restaurant   \n",
       "33703                                            Bellini   \n",
       "33505                                         Kaab Gluay   \n",
       "25404                                           THE DECK   \n",
       "23989                                          Smile Bar   \n",
       "23692                                    HQ Beach Lounge   \n",
       "29640                             Sweet Dream Restaurant   \n",
       "47480     Wine Connection Deli & Bistro - Central Phuket   \n",
       "47255                                             Heaven   \n",
       "43210                Top Of The Reef at Cape Panwa Hotel   \n",
       "52407                                      Karon Seafood   \n",
       "50437       Salt & Pepper Restaurant Steakhouse Pizzeria   \n",
       "42269                                Cafe del Mar Phuket   \n",
       "40971                               Danny's Place Kamala   \n",
       "42443                  H.C. Andersen - Family Restaurant   \n",
       "11827                                         Blue Manao   \n",
       "9410          Bianconero da Tuveri Restaurant & Pizzeria   \n",
       "8423                               SILK Restaurant & Bar   \n",
       "13523                                             Tantra   \n",
       "12699                            Hey Ha Bar & Restaurant   \n",
       "7956                                    The Greek Tavern   \n",
       "8324   Vanilla Sky Bar & Gastro Pub - Cape Sienna - P...   \n",
       "23219                                       White Orchid   \n",
       "21899                         Napoli Ristorante Pizzeria   \n",
       "19729                                  Baan Rim Pa Kalim   \n",
       "23493                                     Oiy Restaurant   \n",
       "14090                                          The Place   \n",
       "\n",
       "                                                  Review  \n",
       "6138   The best place to eat when you want time out f...  \n",
       "32056  Watch the sunset on the beach while dining at ...  \n",
       "32031  Ate here twice and it was great. Wifi, really ...  \n",
       "31638  The glass noodles were very good! Service was ...  \n",
       "33703  Been twice during my short stay in Chalong and...  \n",
       "33505  Thai restaurant with great Thai Food and great...  \n",
       "25404  The only reason to eat here is the view and th...  \n",
       "23989  Came twice in two days. All dishes are freshly...  \n",
       "23692  This beach club is very cool, the DJ was great...  \n",
       "29640  Stopped here last night for a casual dinner. I...  \n",
       "47480  We had order beaf steak and red wine and ham p...  \n",
       "47255  Food isn’t bad but it isn’t as good as adverti...  \n",
       "43210  The restaurant had a happy hour from 1830 to 1...  \n",
       "52407  Had a great pizza here. Our wait staff was ver...  \n",
       "50437  Visited early August 2017.\\r\\nNice restaraunt ...  \n",
       "42269  Nice beach club with very nice service at the ...  \n",
       "40971  Frankly, this was a disappointment. I ordered ...  \n",
       "42443  I have been here through several years with my...  \n",
       "11827  We met our German friends and they turned us o...  \n",
       "9410   Food, is amazing, nice place and the owner is ...  \n",
       "8423   <U+9910><U+5385><U+73AF><U+5883><U+975E><U+5E3...  \n",
       "13523  Great place to have Indian food , situated at ...  \n",
       "12699  Nice service and food plus good location, my s...  \n",
       "7956   We had the most amazing dinner date at The Gre...  \n",
       "8324   The drinks here are great! With the ocean wave...  \n",
       "23219  We visited the White Orchid Restaurant on our ...  \n",
       "21899  Authentic Italian food great service\\r\\nHighly...  \n",
       "19729  Great atmosphere, piano man playing music, del...  \n",
       "23493  Check my TripAdvisor it was easy to see why Oi...  \n",
       "14090  We ate in and around Patong for 7 days and wer...  "
      ]
     },
     "execution_count": 22,
     "metadata": {},
     "output_type": "execute_result"
    }
   ],
   "source": [
    "#Sort the data by Location in descending order, and group the rows by Business_name, using the first of each group:\n",
    "data_f = data_k.sort_values(['Location'],ascending=False).groupby('Business_name').head(1)\n",
    "data_f.head(30)"
   ]
  },
  {
   "cell_type": "code",
   "execution_count": 23,
   "metadata": {
    "colab": {
     "base_uri": "https://localhost:8080/"
    },
    "id": "byx1MAP_Yd3J",
    "outputId": "2c497b8c-bcd4-4b7f-e083-f6ae4d2071d9"
   },
   "outputs": [
    {
     "data": {
      "text/plain": [
       "(32, 5)"
      ]
     },
     "execution_count": 23,
     "metadata": {},
     "output_type": "execute_result"
    }
   ],
   "source": [
    "data_f.shape #Confirm size of the new data"
   ]
  },
  {
   "cell_type": "markdown",
   "metadata": {
    "id": "ky4Gb-xwagsS"
   },
   "source": [
    "This ensures we have selected one unique business from the data, resulting in a total of 30 business."
   ]
  },
  {
   "cell_type": "code",
   "execution_count": 24,
   "metadata": {
    "id": "lq1O7I3qXRTP"
   },
   "outputs": [],
   "source": [
    "#data_f = data_f.head(30)#Select the first 30 tourist businesses"
   ]
  },
  {
   "cell_type": "code",
   "execution_count": 25,
   "metadata": {
    "colab": {
     "base_uri": "https://localhost:8080/",
     "height": 1000
    },
    "id": "nitbvnkRbmTA",
    "outputId": "ce2eb8c7-84cf-4c90-b0b6-fd512abfeb30"
   },
   "outputs": [
    {
     "data": {
      "text/html": [
       "<div>\n",
       "<style scoped>\n",
       "    .dataframe tbody tr th:only-of-type {\n",
       "        vertical-align: middle;\n",
       "    }\n",
       "\n",
       "    .dataframe tbody tr th {\n",
       "        vertical-align: top;\n",
       "    }\n",
       "\n",
       "    .dataframe thead th {\n",
       "        text-align: right;\n",
       "    }\n",
       "</style>\n",
       "<table border=\"1\" class=\"dataframe\">\n",
       "  <thead>\n",
       "    <tr style=\"text-align: right;\">\n",
       "      <th></th>\n",
       "      <th>ID</th>\n",
       "      <th>Review Date</th>\n",
       "      <th>Location</th>\n",
       "      <th>Business_name</th>\n",
       "      <th>Review</th>\n",
       "    </tr>\n",
       "  </thead>\n",
       "  <tbody>\n",
       "    <tr>\n",
       "      <th>6138</th>\n",
       "      <td>rn580448653</td>\n",
       "      <td>Reviewed 5 days ago</td>\n",
       "      <td>Kamala</td>\n",
       "      <td>Grill Bill</td>\n",
       "      <td>The best place to eat when you want time out f...</td>\n",
       "    </tr>\n",
       "    <tr>\n",
       "      <th>32056</th>\n",
       "      <td>rn526703384</td>\n",
       "      <td>Reviewed September 23, 2017</td>\n",
       "      <td>Kamala</td>\n",
       "      <td>Mamma Mia Grill &amp; Restaurant Kamala</td>\n",
       "      <td>Watch the sunset on the beach while dining at ...</td>\n",
       "    </tr>\n",
       "    <tr>\n",
       "      <th>32031</th>\n",
       "      <td>rn191430878</td>\n",
       "      <td>Reviewed January 20, 2014</td>\n",
       "      <td>Kamala</td>\n",
       "      <td>Ohlala</td>\n",
       "      <td>Ate here twice and it was great. Wifi, really ...</td>\n",
       "    </tr>\n",
       "    <tr>\n",
       "      <th>31638</th>\n",
       "      <td>rn566441766</td>\n",
       "      <td>Reviewed March 14, 2018</td>\n",
       "      <td>Kamala</td>\n",
       "      <td>Pond Restaurant</td>\n",
       "      <td>The glass noodles were very good! Service was ...</td>\n",
       "    </tr>\n",
       "    <tr>\n",
       "      <th>33703</th>\n",
       "      <td>rn540883385</td>\n",
       "      <td>Reviewed November 14, 2017</td>\n",
       "      <td>Kamala</td>\n",
       "      <td>Bellini</td>\n",
       "      <td>Been twice during my short stay in Chalong and...</td>\n",
       "    </tr>\n",
       "    <tr>\n",
       "      <th>33505</th>\n",
       "      <td>rn334852372</td>\n",
       "      <td>Reviewed December 24, 2015</td>\n",
       "      <td>Kamala</td>\n",
       "      <td>Kaab Gluay</td>\n",
       "      <td>Thai restaurant with great Thai Food and great...</td>\n",
       "    </tr>\n",
       "    <tr>\n",
       "      <th>25404</th>\n",
       "      <td>rn545169206</td>\n",
       "      <td>Reviewed December 4, 2017</td>\n",
       "      <td>Kamala</td>\n",
       "      <td>THE DECK</td>\n",
       "      <td>The only reason to eat here is the view and th...</td>\n",
       "    </tr>\n",
       "    <tr>\n",
       "      <th>23989</th>\n",
       "      <td>rn447144614</td>\n",
       "      <td>Reviewed December 28, 2016</td>\n",
       "      <td>Kamala</td>\n",
       "      <td>Smile Bar</td>\n",
       "      <td>Came twice in two days. All dishes are freshly...</td>\n",
       "    </tr>\n",
       "    <tr>\n",
       "      <th>23692</th>\n",
       "      <td>rn404831099</td>\n",
       "      <td>Reviewed August 13, 2016</td>\n",
       "      <td>Kamala</td>\n",
       "      <td>HQ Beach Lounge</td>\n",
       "      <td>This beach club is very cool, the DJ was great...</td>\n",
       "    </tr>\n",
       "    <tr>\n",
       "      <th>29640</th>\n",
       "      <td>rn249361762</td>\n",
       "      <td>Reviewed January 14, 2015</td>\n",
       "      <td>Kamala</td>\n",
       "      <td>Sweet Dream Restaurant</td>\n",
       "      <td>Stopped here last night for a casual dinner. I...</td>\n",
       "    </tr>\n",
       "    <tr>\n",
       "      <th>47480</th>\n",
       "      <td>rn525121010</td>\n",
       "      <td>Reviewed September 17, 2017</td>\n",
       "      <td>Kamala</td>\n",
       "      <td>Wine Connection Deli &amp; Bistro - Central Phuket</td>\n",
       "      <td>We had order beaf steak and red wine and ham p...</td>\n",
       "    </tr>\n",
       "    <tr>\n",
       "      <th>47255</th>\n",
       "      <td>rn562079885</td>\n",
       "      <td>Reviewed February 22, 2018</td>\n",
       "      <td>Kamala</td>\n",
       "      <td>Heaven</td>\n",
       "      <td>Food isn’t bad but it isn’t as good as adverti...</td>\n",
       "    </tr>\n",
       "    <tr>\n",
       "      <th>43210</th>\n",
       "      <td>rn246373500</td>\n",
       "      <td>Reviewed December 29, 2014</td>\n",
       "      <td>Kamala</td>\n",
       "      <td>Top Of The Reef at Cape Panwa Hotel</td>\n",
       "      <td>The restaurant had a happy hour from 1830 to 1...</td>\n",
       "    </tr>\n",
       "    <tr>\n",
       "      <th>52407</th>\n",
       "      <td>rn523904028</td>\n",
       "      <td>Reviewed September 12, 2017</td>\n",
       "      <td>Kamala</td>\n",
       "      <td>Karon Seafood</td>\n",
       "      <td>Had a great pizza here. Our wait staff was ver...</td>\n",
       "    </tr>\n",
       "    <tr>\n",
       "      <th>50437</th>\n",
       "      <td>rn508287129</td>\n",
       "      <td>Reviewed August 2, 2017</td>\n",
       "      <td>Kamala</td>\n",
       "      <td>Salt &amp; Pepper Restaurant Steakhouse Pizzeria</td>\n",
       "      <td>Visited early August 2017.\\r\\nNice restaraunt ...</td>\n",
       "    </tr>\n",
       "    <tr>\n",
       "      <th>42269</th>\n",
       "      <td>rn569038959</td>\n",
       "      <td>Reviewed March 27, 2018</td>\n",
       "      <td>Kamala</td>\n",
       "      <td>Cafe del Mar Phuket</td>\n",
       "      <td>Nice beach club with very nice service at the ...</td>\n",
       "    </tr>\n",
       "    <tr>\n",
       "      <th>40971</th>\n",
       "      <td>rn509973717</td>\n",
       "      <td>Reviewed August 8, 2017</td>\n",
       "      <td>Kamala</td>\n",
       "      <td>Danny's Place Kamala</td>\n",
       "      <td>Frankly, this was a disappointment. I ordered ...</td>\n",
       "    </tr>\n",
       "    <tr>\n",
       "      <th>42443</th>\n",
       "      <td>rn177765988</td>\n",
       "      <td>Reviewed September 19, 2013</td>\n",
       "      <td>Kamala</td>\n",
       "      <td>H.C. Andersen - Family Restaurant</td>\n",
       "      <td>I have been here through several years with my...</td>\n",
       "    </tr>\n",
       "    <tr>\n",
       "      <th>11827</th>\n",
       "      <td>rn559497866</td>\n",
       "      <td>Reviewed February 9, 2018</td>\n",
       "      <td>Kamala</td>\n",
       "      <td>Blue Manao</td>\n",
       "      <td>We met our German friends and they turned us o...</td>\n",
       "    </tr>\n",
       "    <tr>\n",
       "      <th>9410</th>\n",
       "      <td>rn559998478</td>\n",
       "      <td>Reviewed February 12, 2018</td>\n",
       "      <td>Kamala</td>\n",
       "      <td>Bianconero da Tuveri Restaurant &amp; Pizzeria</td>\n",
       "      <td>Food, is amazing, nice place and the owner is ...</td>\n",
       "    </tr>\n",
       "    <tr>\n",
       "      <th>8423</th>\n",
       "      <td>rn384892335</td>\n",
       "      <td>Reviewed June 22, 2016</td>\n",
       "      <td>Kamala</td>\n",
       "      <td>SILK Restaurant &amp; Bar</td>\n",
       "      <td>&lt;U+9910&gt;&lt;U+5385&gt;&lt;U+73AF&gt;&lt;U+5883&gt;&lt;U+975E&gt;&lt;U+5E3...</td>\n",
       "    </tr>\n",
       "    <tr>\n",
       "      <th>13523</th>\n",
       "      <td>rn566841458</td>\n",
       "      <td>Reviewed March 16, 2018</td>\n",
       "      <td>Kamala</td>\n",
       "      <td>Tantra</td>\n",
       "      <td>Great place to have Indian food , situated at ...</td>\n",
       "    </tr>\n",
       "    <tr>\n",
       "      <th>12699</th>\n",
       "      <td>rn565266433</td>\n",
       "      <td>Reviewed March 8, 2018</td>\n",
       "      <td>Kamala</td>\n",
       "      <td>Hey Ha Bar &amp; Restaurant</td>\n",
       "      <td>Nice service and food plus good location, my s...</td>\n",
       "    </tr>\n",
       "    <tr>\n",
       "      <th>7956</th>\n",
       "      <td>rn502386361</td>\n",
       "      <td>Reviewed July 16, 2017</td>\n",
       "      <td>Kamala</td>\n",
       "      <td>The Greek Tavern</td>\n",
       "      <td>We had the most amazing dinner date at The Gre...</td>\n",
       "    </tr>\n",
       "    <tr>\n",
       "      <th>8324</th>\n",
       "      <td>rn191407427</td>\n",
       "      <td>Reviewed January 20, 2014</td>\n",
       "      <td>Kamala</td>\n",
       "      <td>Vanilla Sky Bar &amp; Gastro Pub - Cape Sienna - P...</td>\n",
       "      <td>The drinks here are great! With the ocean wave...</td>\n",
       "    </tr>\n",
       "    <tr>\n",
       "      <th>23219</th>\n",
       "      <td>rn506003239</td>\n",
       "      <td>Reviewed July 26, 2017</td>\n",
       "      <td>Kamala</td>\n",
       "      <td>White Orchid</td>\n",
       "      <td>We visited the White Orchid Restaurant on our ...</td>\n",
       "    </tr>\n",
       "    <tr>\n",
       "      <th>21899</th>\n",
       "      <td>rn457768556</td>\n",
       "      <td>Reviewed February 6, 2017</td>\n",
       "      <td>Kamala</td>\n",
       "      <td>Napoli Ristorante Pizzeria</td>\n",
       "      <td>Authentic Italian food great service\\r\\nHighly...</td>\n",
       "    </tr>\n",
       "    <tr>\n",
       "      <th>19729</th>\n",
       "      <td>rn445572555</td>\n",
       "      <td>Reviewed December 20, 2016</td>\n",
       "      <td>Kamala</td>\n",
       "      <td>Baan Rim Pa Kalim</td>\n",
       "      <td>Great atmosphere, piano man playing music, del...</td>\n",
       "    </tr>\n",
       "    <tr>\n",
       "      <th>23493</th>\n",
       "      <td>rn555813453</td>\n",
       "      <td>Reviewed January 23, 2018</td>\n",
       "      <td>Kamala</td>\n",
       "      <td>Oiy Restaurant</td>\n",
       "      <td>Check my TripAdvisor it was easy to see why Oi...</td>\n",
       "    </tr>\n",
       "    <tr>\n",
       "      <th>14090</th>\n",
       "      <td>rn581324247</td>\n",
       "      <td>Reviewed yesterday</td>\n",
       "      <td>Kamala</td>\n",
       "      <td>The Place</td>\n",
       "      <td>We ate in and around Patong for 7 days and wer...</td>\n",
       "    </tr>\n",
       "    <tr>\n",
       "      <th>16789</th>\n",
       "      <td>rn500181913</td>\n",
       "      <td>Reviewed July 10, 2017</td>\n",
       "      <td>Kamala</td>\n",
       "      <td>Baan Mai</td>\n",
       "      <td>Superb food, right by swishotel. When you ask ...</td>\n",
       "    </tr>\n",
       "    <tr>\n",
       "      <th>17263</th>\n",
       "      <td>rn554873489</td>\n",
       "      <td>Reviewed January 19, 2018</td>\n",
       "      <td>Kamala</td>\n",
       "      <td>Bush Garden Kamala&lt;U+200B&gt;</td>\n",
       "      <td>Great, italian-style pizza, and very friendly ...</td>\n",
       "    </tr>\n",
       "  </tbody>\n",
       "</table>\n",
       "</div>"
      ],
      "text/plain": [
       "                ID                   Review Date Location  \\\n",
       "6138   rn580448653          Reviewed 5 days ago    Kamala   \n",
       "32056  rn526703384  Reviewed September 23, 2017    Kamala   \n",
       "32031  rn191430878    Reviewed January 20, 2014    Kamala   \n",
       "31638  rn566441766      Reviewed March 14, 2018    Kamala   \n",
       "33703  rn540883385   Reviewed November 14, 2017    Kamala   \n",
       "33505  rn334852372   Reviewed December 24, 2015    Kamala   \n",
       "25404  rn545169206    Reviewed December 4, 2017    Kamala   \n",
       "23989  rn447144614   Reviewed December 28, 2016    Kamala   \n",
       "23692  rn404831099     Reviewed August 13, 2016    Kamala   \n",
       "29640  rn249361762    Reviewed January 14, 2015    Kamala   \n",
       "47480  rn525121010  Reviewed September 17, 2017    Kamala   \n",
       "47255  rn562079885   Reviewed February 22, 2018    Kamala   \n",
       "43210  rn246373500   Reviewed December 29, 2014    Kamala   \n",
       "52407  rn523904028  Reviewed September 12, 2017    Kamala   \n",
       "50437  rn508287129      Reviewed August 2, 2017    Kamala   \n",
       "42269  rn569038959      Reviewed March 27, 2018    Kamala   \n",
       "40971  rn509973717      Reviewed August 8, 2017    Kamala   \n",
       "42443  rn177765988  Reviewed September 19, 2013    Kamala   \n",
       "11827  rn559497866    Reviewed February 9, 2018    Kamala   \n",
       "9410   rn559998478   Reviewed February 12, 2018    Kamala   \n",
       "8423   rn384892335       Reviewed June 22, 2016    Kamala   \n",
       "13523  rn566841458      Reviewed March 16, 2018    Kamala   \n",
       "12699  rn565266433       Reviewed March 8, 2018    Kamala   \n",
       "7956   rn502386361       Reviewed July 16, 2017    Kamala   \n",
       "8324   rn191407427    Reviewed January 20, 2014    Kamala   \n",
       "23219  rn506003239       Reviewed July 26, 2017    Kamala   \n",
       "21899  rn457768556    Reviewed February 6, 2017    Kamala   \n",
       "19729  rn445572555   Reviewed December 20, 2016    Kamala   \n",
       "23493  rn555813453    Reviewed January 23, 2018    Kamala   \n",
       "14090  rn581324247           Reviewed yesterday    Kamala   \n",
       "16789  rn500181913       Reviewed July 10, 2017    Kamala   \n",
       "17263  rn554873489    Reviewed January 19, 2018    Kamala   \n",
       "\n",
       "                                           Business_name  \\\n",
       "6138                                          Grill Bill   \n",
       "32056                Mamma Mia Grill & Restaurant Kamala   \n",
       "32031                                             Ohlala   \n",
       "31638                                    Pond Restaurant   \n",
       "33703                                            Bellini   \n",
       "33505                                         Kaab Gluay   \n",
       "25404                                           THE DECK   \n",
       "23989                                          Smile Bar   \n",
       "23692                                    HQ Beach Lounge   \n",
       "29640                             Sweet Dream Restaurant   \n",
       "47480     Wine Connection Deli & Bistro - Central Phuket   \n",
       "47255                                             Heaven   \n",
       "43210                Top Of The Reef at Cape Panwa Hotel   \n",
       "52407                                      Karon Seafood   \n",
       "50437       Salt & Pepper Restaurant Steakhouse Pizzeria   \n",
       "42269                                Cafe del Mar Phuket   \n",
       "40971                               Danny's Place Kamala   \n",
       "42443                  H.C. Andersen - Family Restaurant   \n",
       "11827                                         Blue Manao   \n",
       "9410          Bianconero da Tuveri Restaurant & Pizzeria   \n",
       "8423                               SILK Restaurant & Bar   \n",
       "13523                                             Tantra   \n",
       "12699                            Hey Ha Bar & Restaurant   \n",
       "7956                                    The Greek Tavern   \n",
       "8324   Vanilla Sky Bar & Gastro Pub - Cape Sienna - P...   \n",
       "23219                                       White Orchid   \n",
       "21899                         Napoli Ristorante Pizzeria   \n",
       "19729                                  Baan Rim Pa Kalim   \n",
       "23493                                     Oiy Restaurant   \n",
       "14090                                          The Place   \n",
       "16789                                           Baan Mai   \n",
       "17263                         Bush Garden Kamala<U+200B>   \n",
       "\n",
       "                                                  Review  \n",
       "6138   The best place to eat when you want time out f...  \n",
       "32056  Watch the sunset on the beach while dining at ...  \n",
       "32031  Ate here twice and it was great. Wifi, really ...  \n",
       "31638  The glass noodles were very good! Service was ...  \n",
       "33703  Been twice during my short stay in Chalong and...  \n",
       "33505  Thai restaurant with great Thai Food and great...  \n",
       "25404  The only reason to eat here is the view and th...  \n",
       "23989  Came twice in two days. All dishes are freshly...  \n",
       "23692  This beach club is very cool, the DJ was great...  \n",
       "29640  Stopped here last night for a casual dinner. I...  \n",
       "47480  We had order beaf steak and red wine and ham p...  \n",
       "47255  Food isn’t bad but it isn’t as good as adverti...  \n",
       "43210  The restaurant had a happy hour from 1830 to 1...  \n",
       "52407  Had a great pizza here. Our wait staff was ver...  \n",
       "50437  Visited early August 2017.\\r\\nNice restaraunt ...  \n",
       "42269  Nice beach club with very nice service at the ...  \n",
       "40971  Frankly, this was a disappointment. I ordered ...  \n",
       "42443  I have been here through several years with my...  \n",
       "11827  We met our German friends and they turned us o...  \n",
       "9410   Food, is amazing, nice place and the owner is ...  \n",
       "8423   <U+9910><U+5385><U+73AF><U+5883><U+975E><U+5E3...  \n",
       "13523  Great place to have Indian food , situated at ...  \n",
       "12699  Nice service and food plus good location, my s...  \n",
       "7956   We had the most amazing dinner date at The Gre...  \n",
       "8324   The drinks here are great! With the ocean wave...  \n",
       "23219  We visited the White Orchid Restaurant on our ...  \n",
       "21899  Authentic Italian food great service\\r\\nHighly...  \n",
       "19729  Great atmosphere, piano man playing music, del...  \n",
       "23493  Check my TripAdvisor it was easy to see why Oi...  \n",
       "14090  We ate in and around Patong for 7 days and wer...  \n",
       "16789  Superb food, right by swishotel. When you ask ...  \n",
       "17263  Great, italian-style pizza, and very friendly ...  "
      ]
     },
     "execution_count": 25,
     "metadata": {},
     "output_type": "execute_result"
    }
   ],
   "source": [
    "data_f"
   ]
  },
  {
   "cell_type": "code",
   "execution_count": 26,
   "metadata": {
    "id": "i9N_pBUXCcSY"
   },
   "outputs": [],
   "source": [
    "data_f = data_f[~data_f[\"Business_name\"].str.contains(\"SILK Restaurant & Bar\", na=False)] #filter row with improperly encoded text."
   ]
  },
  {
   "cell_type": "code",
   "execution_count": 27,
   "metadata": {
    "colab": {
     "base_uri": "https://localhost:8080/"
    },
    "id": "cG3l-fV0FGlk",
    "outputId": "aba3e28a-4718-4eb5-f658-2d6639d56ddd"
   },
   "outputs": [
    {
     "data": {
      "text/plain": [
       "(31, 5)"
      ]
     },
     "execution_count": 27,
     "metadata": {},
     "output_type": "execute_result"
    }
   ],
   "source": [
    "data_f.shape"
   ]
  },
  {
   "cell_type": "code",
   "execution_count": 28,
   "metadata": {
    "colab": {
     "base_uri": "https://localhost:8080/"
    },
    "id": "GGiHAcGKFbDr",
    "outputId": "f2a3327b-04e5-44a9-fced-e31dd7742069",
    "scrolled": true
   },
   "outputs": [
    {
     "data": {
      "text/plain": [
       "array(['Grill Bill', 'Mamma Mia Grill & Restaurant Kamala', 'Ohlala',\n",
       "       'Pond Restaurant', 'Bellini', 'Kaab Gluay', 'THE DECK',\n",
       "       'Smile Bar', 'HQ Beach Lounge', 'Sweet Dream Restaurant',\n",
       "       'Wine Connection Deli & Bistro - Central Phuket', 'Heaven',\n",
       "       'Top Of The Reef at Cape Panwa Hotel', 'Karon Seafood',\n",
       "       'Salt & Pepper Restaurant Steakhouse Pizzeria',\n",
       "       'Cafe del Mar Phuket', \"Danny's Place Kamala\",\n",
       "       'H.C. Andersen - Family Restaurant', 'Blue Manao',\n",
       "       'Bianconero da Tuveri Restaurant & Pizzeria', 'Tantra',\n",
       "       'Hey Ha Bar & Restaurant', 'The Greek Tavern',\n",
       "       'Vanilla Sky Bar & Gastro Pub - Cape Sienna - Phuket, Thailand',\n",
       "       'White Orchid', 'Napoli Ristorante Pizzeria', 'Baan Rim Pa Kalim',\n",
       "       'Oiy Restaurant', 'The Place', 'Baan Mai',\n",
       "       'Bush Garden Kamala<U+200B>'], dtype=object)"
      ]
     },
     "execution_count": 28,
     "metadata": {},
     "output_type": "execute_result"
    }
   ],
   "source": [
    "data_f.Business_name.unique()"
   ]
  },
  {
   "cell_type": "code",
   "execution_count": 29,
   "metadata": {
    "id": "Kw9s18tlFnlJ"
   },
   "outputs": [],
   "source": [
    "data_f = data_f.head(30) #select first 30 businesses"
   ]
  },
  {
   "cell_type": "code",
   "execution_count": 30,
   "metadata": {
    "colab": {
     "base_uri": "https://localhost:8080/"
    },
    "id": "z8oYADNyPSa6",
    "outputId": "9648f9ba-1630-45ec-af13-6355d2748650"
   },
   "outputs": [
    {
     "data": {
      "text/plain": [
       "(30, 5)"
      ]
     },
     "execution_count": 30,
     "metadata": {},
     "output_type": "execute_result"
    }
   ],
   "source": [
    "data_f.shape #Confirm filter has been applied:"
   ]
  },
  {
   "cell_type": "code",
   "execution_count": 31,
   "metadata": {
    "id": "nR1gtE2rZudr"
   },
   "outputs": [],
   "source": [
    "data_f = data_f.drop('ID', axis=1) #Drop ID column"
   ]
  },
  {
   "cell_type": "code",
   "execution_count": 32,
   "metadata": {
    "colab": {
     "base_uri": "https://localhost:8080/"
    },
    "id": "JU9Ttx_epNtP",
    "outputId": "7157e22b-4355-47df-ae7f-493cc8660b2c"
   },
   "outputs": [
    {
     "name": "stdout",
     "output_type": "stream",
     "text": [
      "\n",
      " All Data Labels\n",
      "                                                    Review Date  Location  \\\n",
      "Business_name                                                               \n",
      "Baan Mai                                                      1         1   \n",
      "Baan Rim Pa Kalim                                             1         1   \n",
      "Bellini                                                       1         1   \n",
      "Bianconero da Tuveri Restaurant & Pizzeria                    1         1   \n",
      "Blue Manao                                                    1         1   \n",
      "Cafe del Mar Phuket                                           1         1   \n",
      "Danny's Place Kamala                                          1         1   \n",
      "Grill Bill                                                    1         1   \n",
      "H.C. Andersen - Family Restaurant                             1         1   \n",
      "HQ Beach Lounge                                               1         1   \n",
      "Heaven                                                        1         1   \n",
      "Hey Ha Bar & Restaurant                                       1         1   \n",
      "Kaab Gluay                                                    1         1   \n",
      "Karon Seafood                                                 1         1   \n",
      "Mamma Mia Grill & Restaurant Kamala                           1         1   \n",
      "Napoli Ristorante Pizzeria                                    1         1   \n",
      "Ohlala                                                        1         1   \n",
      "Oiy Restaurant                                                1         1   \n",
      "Pond Restaurant                                               1         1   \n",
      "Salt & Pepper Restaurant Steakhouse Pizzeria                  1         1   \n",
      "Smile Bar                                                     1         1   \n",
      "Sweet Dream Restaurant                                        1         1   \n",
      "THE DECK                                                      1         1   \n",
      "Tantra                                                        1         1   \n",
      "The Greek Tavern                                              1         1   \n",
      "The Place                                                     1         1   \n",
      "Top Of The Reef at Cape Panwa Hotel                           1         1   \n",
      "Vanilla Sky Bar & Gastro Pub - Cape Sienna - Ph...            1         1   \n",
      "White Orchid                                                  1         1   \n",
      "Wine Connection Deli & Bistro - Central Phuket                1         1   \n",
      "\n",
      "                                                    Review  \n",
      "Business_name                                               \n",
      "Baan Mai                                                 1  \n",
      "Baan Rim Pa Kalim                                        1  \n",
      "Bellini                                                  1  \n",
      "Bianconero da Tuveri Restaurant & Pizzeria               1  \n",
      "Blue Manao                                               1  \n",
      "Cafe del Mar Phuket                                      1  \n",
      "Danny's Place Kamala                                     1  \n",
      "Grill Bill                                               1  \n",
      "H.C. Andersen - Family Restaurant                        1  \n",
      "HQ Beach Lounge                                          1  \n",
      "Heaven                                                   1  \n",
      "Hey Ha Bar & Restaurant                                  1  \n",
      "Kaab Gluay                                               1  \n",
      "Karon Seafood                                            1  \n",
      "Mamma Mia Grill & Restaurant Kamala                      1  \n",
      "Napoli Ristorante Pizzeria                               1  \n",
      "Ohlala                                                   1  \n",
      "Oiy Restaurant                                           1  \n",
      "Pond Restaurant                                          1  \n",
      "Salt & Pepper Restaurant Steakhouse Pizzeria             1  \n",
      "Smile Bar                                                1  \n",
      "Sweet Dream Restaurant                                   1  \n",
      "THE DECK                                                 1  \n",
      "Tantra                                                   1  \n",
      "The Greek Tavern                                         1  \n",
      "The Place                                                1  \n",
      "Top Of The Reef at Cape Panwa Hotel                      1  \n",
      "Vanilla Sky Bar & Gastro Pub - Cape Sienna - Ph...       1  \n",
      "White Orchid                                             1  \n",
      "Wine Connection Deli & Bistro - Central Phuket           1  \n"
     ]
    }
   ],
   "source": [
    "print(\"\\n All Data Labels\")\n",
    "print(data_f.groupby(\"Business_name\").count())"
   ]
  },
  {
   "cell_type": "code",
   "execution_count": 33,
   "metadata": {
    "colab": {
     "base_uri": "https://localhost:8080/"
    },
    "id": "m_lGx4RacEiX",
    "outputId": "ce45241f-4a51-4e36-9505-84c71bf21809"
   },
   "outputs": [
    {
     "data": {
      "text/plain": [
       "array([' Kamala'], dtype=object)"
      ]
     },
     "execution_count": 33,
     "metadata": {},
     "output_type": "execute_result"
    }
   ],
   "source": [
    "data_f.Location.unique() #Confirm we have one unique location:"
   ]
  },
  {
   "cell_type": "code",
   "execution_count": 34,
   "metadata": {
    "colab": {
     "base_uri": "https://localhost:8080/"
    },
    "id": "BA224gAkcer2",
    "outputId": "baa60c9b-226c-43c9-b0a6-16a7b65a8867"
   },
   "outputs": [
    {
     "name": "stdout",
     "output_type": "stream",
     "text": [
      "<class 'pandas.core.frame.DataFrame'>\n",
      "Int64Index: 30 entries, 6138 to 16789\n",
      "Data columns (total 4 columns):\n",
      " #   Column         Non-Null Count  Dtype \n",
      "---  ------         --------------  ----- \n",
      " 0   Review Date    30 non-null     object\n",
      " 1   Location       30 non-null     object\n",
      " 2   Business_name  30 non-null     object\n",
      " 3   Review         30 non-null     object\n",
      "dtypes: object(4)\n",
      "memory usage: 1.2+ KB\n"
     ]
    }
   ],
   "source": [
    "data_f.info()"
   ]
  },
  {
   "cell_type": "code",
   "execution_count": 35,
   "metadata": {
    "id": "6R4SigGtmcou"
   },
   "outputs": [],
   "source": [
    "save = data_f"
   ]
  },
  {
   "cell_type": "code",
   "execution_count": 36,
   "metadata": {
    "colab": {
     "base_uri": "https://localhost:8080/",
     "height": 17
    },
    "id": "HAlSe4dclvlu",
    "outputId": "71ad2fce-3940-4086-9df1-6c1a604dce17"
   },
   "outputs": [],
   "source": [
    "#from google.colab import files \n",
    "Review = save.to_csv('review.csv') #save copy in virtual machine\n",
    "#files.download('review.csv') #download from Virtual machine to local storage\n",
    "Review = save"
   ]
  },
  {
   "cell_type": "code",
   "execution_count": 37,
   "metadata": {
    "colab": {
     "base_uri": "https://localhost:8080/",
     "height": 206
    },
    "id": "pinBFNl9pdPv",
    "outputId": "eaac6674-cae4-4018-e2d3-25f3f90489a7"
   },
   "outputs": [
    {
     "data": {
      "text/html": [
       "<div>\n",
       "<style scoped>\n",
       "    .dataframe tbody tr th:only-of-type {\n",
       "        vertical-align: middle;\n",
       "    }\n",
       "\n",
       "    .dataframe tbody tr th {\n",
       "        vertical-align: top;\n",
       "    }\n",
       "\n",
       "    .dataframe thead th {\n",
       "        text-align: right;\n",
       "    }\n",
       "</style>\n",
       "<table border=\"1\" class=\"dataframe\">\n",
       "  <thead>\n",
       "    <tr style=\"text-align: right;\">\n",
       "      <th></th>\n",
       "      <th>Review Date</th>\n",
       "      <th>Location</th>\n",
       "      <th>Business_name</th>\n",
       "      <th>Review</th>\n",
       "    </tr>\n",
       "  </thead>\n",
       "  <tbody>\n",
       "    <tr>\n",
       "      <th>6138</th>\n",
       "      <td>Reviewed 5 days ago</td>\n",
       "      <td>Kamala</td>\n",
       "      <td>Grill Bill</td>\n",
       "      <td>[best, place, eat, want, time, thai, food, tun...</td>\n",
       "    </tr>\n",
       "    <tr>\n",
       "      <th>32056</th>\n",
       "      <td>Reviewed September 23, 2017</td>\n",
       "      <td>Kamala</td>\n",
       "      <td>Mamma Mia Grill &amp; Restaurant Kamala</td>\n",
       "      <td>[watch, sunset, beach, dine, great, restaur, f...</td>\n",
       "    </tr>\n",
       "    <tr>\n",
       "      <th>32031</th>\n",
       "      <td>Reviewed January 20, 2014</td>\n",
       "      <td>Kamala</td>\n",
       "      <td>Ohlala</td>\n",
       "      <td>[ate, twice, great, wifi, realli, fast, servic...</td>\n",
       "    </tr>\n",
       "    <tr>\n",
       "      <th>31638</th>\n",
       "      <td>Reviewed March 14, 2018</td>\n",
       "      <td>Kamala</td>\n",
       "      <td>Pond Restaurant</td>\n",
       "      <td>[glass, noodl, good, servic, also, good, price...</td>\n",
       "    </tr>\n",
       "    <tr>\n",
       "      <th>33703</th>\n",
       "      <td>Reviewed November 14, 2017</td>\n",
       "      <td>Kamala</td>\n",
       "      <td>Bellini</td>\n",
       "      <td>[twice, short, stay, chalong, time, compani, f...</td>\n",
       "    </tr>\n",
       "  </tbody>\n",
       "</table>\n",
       "</div>"
      ],
      "text/plain": [
       "                        Review Date Location  \\\n",
       "6138           Reviewed 5 days ago    Kamala   \n",
       "32056  Reviewed September 23, 2017    Kamala   \n",
       "32031    Reviewed January 20, 2014    Kamala   \n",
       "31638      Reviewed March 14, 2018    Kamala   \n",
       "33703   Reviewed November 14, 2017    Kamala   \n",
       "\n",
       "                             Business_name  \\\n",
       "6138                            Grill Bill   \n",
       "32056  Mamma Mia Grill & Restaurant Kamala   \n",
       "32031                               Ohlala   \n",
       "31638                      Pond Restaurant   \n",
       "33703                              Bellini   \n",
       "\n",
       "                                                  Review  \n",
       "6138   [best, place, eat, want, time, thai, food, tun...  \n",
       "32056  [watch, sunset, beach, dine, great, restaur, f...  \n",
       "32031  [ate, twice, great, wifi, realli, fast, servic...  \n",
       "31638  [glass, noodl, good, servic, also, good, price...  \n",
       "33703  [twice, short, stay, chalong, time, compani, f...  "
      ]
     },
     "execution_count": 37,
     "metadata": {},
     "output_type": "execute_result"
    }
   ],
   "source": [
    "data_f['Review'] = data_f['Review'].apply(preprocess_text) #apply preprocessing to review colum\n",
    "\n",
    "data_f.head()"
   ]
  },
  {
   "cell_type": "code",
   "execution_count": 38,
   "metadata": {
    "colab": {
     "base_uri": "https://localhost:8080/",
     "height": 236
    },
    "id": "QJdGTYS8s1S1",
    "outputId": "bf1b0bd7-cb9c-4423-d28b-483fe908a587"
   },
   "outputs": [
    {
     "data": {
      "text/html": [
       "<div>\n",
       "<style scoped>\n",
       "    .dataframe tbody tr th:only-of-type {\n",
       "        vertical-align: middle;\n",
       "    }\n",
       "\n",
       "    .dataframe tbody tr th {\n",
       "        vertical-align: top;\n",
       "    }\n",
       "\n",
       "    .dataframe thead th {\n",
       "        text-align: right;\n",
       "    }\n",
       "</style>\n",
       "<table border=\"1\" class=\"dataframe\">\n",
       "  <thead>\n",
       "    <tr style=\"text-align: right;\">\n",
       "      <th></th>\n",
       "      <th>10</th>\n",
       "      <th>1830</th>\n",
       "      <th>1930</th>\n",
       "      <th>2004</th>\n",
       "      <th>2017</th>\n",
       "      <th>20aud</th>\n",
       "      <th>75</th>\n",
       "      <th>abd</th>\n",
       "      <th>accident</th>\n",
       "      <th>across</th>\n",
       "      <th>...</th>\n",
       "      <th>welcom</th>\n",
       "      <th>well</th>\n",
       "      <th>white</th>\n",
       "      <th>wifi</th>\n",
       "      <th>wine</th>\n",
       "      <th>wit</th>\n",
       "      <th>would</th>\n",
       "      <th>write</th>\n",
       "      <th>writer</th>\n",
       "      <th>year</th>\n",
       "    </tr>\n",
       "  </thead>\n",
       "  <tbody>\n",
       "    <tr>\n",
       "      <th>0</th>\n",
       "      <td>0</td>\n",
       "      <td>0</td>\n",
       "      <td>0</td>\n",
       "      <td>0</td>\n",
       "      <td>0</td>\n",
       "      <td>0</td>\n",
       "      <td>0</td>\n",
       "      <td>0</td>\n",
       "      <td>0</td>\n",
       "      <td>0</td>\n",
       "      <td>...</td>\n",
       "      <td>0</td>\n",
       "      <td>0</td>\n",
       "      <td>0</td>\n",
       "      <td>0</td>\n",
       "      <td>0</td>\n",
       "      <td>0</td>\n",
       "      <td>0</td>\n",
       "      <td>0</td>\n",
       "      <td>0</td>\n",
       "      <td>0</td>\n",
       "    </tr>\n",
       "    <tr>\n",
       "      <th>1</th>\n",
       "      <td>0</td>\n",
       "      <td>0</td>\n",
       "      <td>0</td>\n",
       "      <td>0</td>\n",
       "      <td>0</td>\n",
       "      <td>0</td>\n",
       "      <td>0</td>\n",
       "      <td>0</td>\n",
       "      <td>0</td>\n",
       "      <td>0</td>\n",
       "      <td>...</td>\n",
       "      <td>0</td>\n",
       "      <td>0</td>\n",
       "      <td>0</td>\n",
       "      <td>0</td>\n",
       "      <td>0</td>\n",
       "      <td>0</td>\n",
       "      <td>0</td>\n",
       "      <td>0</td>\n",
       "      <td>0</td>\n",
       "      <td>0</td>\n",
       "    </tr>\n",
       "    <tr>\n",
       "      <th>2</th>\n",
       "      <td>0</td>\n",
       "      <td>0</td>\n",
       "      <td>0</td>\n",
       "      <td>0</td>\n",
       "      <td>0</td>\n",
       "      <td>0</td>\n",
       "      <td>0</td>\n",
       "      <td>0</td>\n",
       "      <td>0</td>\n",
       "      <td>0</td>\n",
       "      <td>...</td>\n",
       "      <td>0</td>\n",
       "      <td>0</td>\n",
       "      <td>0</td>\n",
       "      <td>1</td>\n",
       "      <td>0</td>\n",
       "      <td>0</td>\n",
       "      <td>0</td>\n",
       "      <td>0</td>\n",
       "      <td>0</td>\n",
       "      <td>0</td>\n",
       "    </tr>\n",
       "    <tr>\n",
       "      <th>3</th>\n",
       "      <td>0</td>\n",
       "      <td>0</td>\n",
       "      <td>0</td>\n",
       "      <td>0</td>\n",
       "      <td>0</td>\n",
       "      <td>0</td>\n",
       "      <td>0</td>\n",
       "      <td>0</td>\n",
       "      <td>0</td>\n",
       "      <td>0</td>\n",
       "      <td>...</td>\n",
       "      <td>0</td>\n",
       "      <td>0</td>\n",
       "      <td>0</td>\n",
       "      <td>0</td>\n",
       "      <td>0</td>\n",
       "      <td>0</td>\n",
       "      <td>0</td>\n",
       "      <td>0</td>\n",
       "      <td>0</td>\n",
       "      <td>0</td>\n",
       "    </tr>\n",
       "    <tr>\n",
       "      <th>4</th>\n",
       "      <td>0</td>\n",
       "      <td>0</td>\n",
       "      <td>0</td>\n",
       "      <td>0</td>\n",
       "      <td>0</td>\n",
       "      <td>0</td>\n",
       "      <td>0</td>\n",
       "      <td>0</td>\n",
       "      <td>1</td>\n",
       "      <td>0</td>\n",
       "      <td>...</td>\n",
       "      <td>0</td>\n",
       "      <td>0</td>\n",
       "      <td>0</td>\n",
       "      <td>0</td>\n",
       "      <td>0</td>\n",
       "      <td>0</td>\n",
       "      <td>1</td>\n",
       "      <td>1</td>\n",
       "      <td>0</td>\n",
       "      <td>0</td>\n",
       "    </tr>\n",
       "  </tbody>\n",
       "</table>\n",
       "<p>5 rows × 349 columns</p>\n",
       "</div>"
      ],
      "text/plain": [
       "   10  1830  1930  2004  2017  20aud  75  abd  accident  across  ...  welcom  \\\n",
       "0   0     0     0     0     0      0   0    0         0       0  ...       0   \n",
       "1   0     0     0     0     0      0   0    0         0       0  ...       0   \n",
       "2   0     0     0     0     0      0   0    0         0       0  ...       0   \n",
       "3   0     0     0     0     0      0   0    0         0       0  ...       0   \n",
       "4   0     0     0     0     0      0   0    0         1       0  ...       0   \n",
       "\n",
       "   well  white  wifi  wine  wit  would  write  writer  year  \n",
       "0     0      0     0     0    0      0      0       0     0  \n",
       "1     0      0     0     0    0      0      0       0     0  \n",
       "2     0      0     1     0    0      0      0       0     0  \n",
       "3     0      0     0     0    0      0      0       0     0  \n",
       "4     0      0     0     0    0      1      1       0     0  \n",
       "\n",
       "[5 rows x 349 columns]"
      ]
     },
     "execution_count": 38,
     "metadata": {},
     "output_type": "execute_result"
    }
   ],
   "source": [
    "from sklearn.feature_extraction.text import CountVectorizer \n",
    "from sklearn.feature_extraction.text import TfidfVectorizer\n",
    "\n",
    "vectorizer = CountVectorizer()\n",
    "X = vectorizer.fit_transform(data_f['Review'].map(' '.join))\n",
    "X = pd.DataFrame(X.toarray(),columns=vectorizer.get_feature_names_out())\n",
    "\n",
    "X.head()"
   ]
  },
  {
   "cell_type": "code",
   "execution_count": 39,
   "metadata": {
    "id": "v3X76hbAtWX4"
   },
   "outputs": [],
   "source": [
    "from sklearn.model_selection import train_test_split\n",
    "\n",
    "Y= data_f['Business_name']\n",
    "\n",
    "x_train, x_test, y_train, y_test = train_test_split(\n",
    "    X, Y, train_size=0.8, test_size=0.2, random_state=99)"
   ]
  },
  {
   "cell_type": "code",
   "execution_count": 40,
   "metadata": {},
   "outputs": [
    {
     "data": {
      "text/plain": [
       "<AxesSubplot:xlabel='Business_name', ylabel='count'>"
      ]
     },
     "execution_count": 40,
     "metadata": {},
     "output_type": "execute_result"
    },
    {
     "data": {
      "image/png": "[encoded data removed]",
      "text/plain": [
       "<Figure size 432x288 with 1 Axes>"
      ]
     },
     "metadata": {
      "needs_background": "light"
     },
     "output_type": "display_data"
    }
   ],
   "source": [
    "from sklearn.model_selection import train_test_split\n",
    "\n",
    "Y= data_f['Business_name']\n",
    "\n",
    "x_train, x_test, y_train, y_test = train_test_split(\n",
    "    X, Y, train_size=0.8, test_size=0.2, random_state=99)\n",
    "sns.countplot(x=data_f['Business_name']) #The target column looks balanced so we proceed to modelling"
   ]
  },
  {
   "cell_type": "code",
   "execution_count": 41,
   "metadata": {
    "colab": {
     "base_uri": "https://localhost:8080/",
     "height": 297
    },
    "id": "SXB_kc4Tmlnj",
    "outputId": "07396bff-f141-4e17-9335-45f9dac4c114"
   },
   "outputs": [
    {
     "data": {
      "text/plain": [
       "<AxesSubplot:xlabel='Business_name', ylabel='count'>"
      ]
     },
     "execution_count": 41,
     "metadata": {},
     "output_type": "execute_result"
    },
    {
     "data": {
      "image/png": "[encoded data removed]",
      "text/plain": [
       "<Figure size 432x288 with 1 Axes>"
      ]
     },
     "metadata": {
      "needs_background": "light"
     },
     "output_type": "display_data"
    }
   ],
   "source": [
    "sns.countplot(x=data_f['Business_name']) #The target column looks balanced so we proceed to modelling"
   ]
  },
  {
   "cell_type": "code",
   "execution_count": 42,
   "metadata": {},
   "outputs": [
    {
     "data": {
      "text/plain": [
       "MultinomialNB()"
      ]
     },
     "execution_count": 42,
     "metadata": {},
     "output_type": "execute_result"
    },
    {
     "data": {
      "image/png": "[encoded data removed]",
      "text/plain": [
       "<Figure size 432x288 with 1 Axes>"
      ]
     },
     "metadata": {
      "needs_background": "light"
     },
     "output_type": "display_data"
    }
   ],
   "source": [
    "sns.countplot(x=data_f['Business_name']) #The target column looks balanced so we proceed to modelling\n",
    "from sklearn.naive_bayes import MultinomialNB\n",
    "\n",
    "model = MultinomialNB()\n",
    "model.fit(x_train, y_train)\n",
    "\n",
    "MultinomialNB()"
   ]
  },
  {
   "cell_type": "code",
   "execution_count": 43,
   "metadata": {
    "colab": {
     "base_uri": "https://localhost:8080/"
    },
    "id": "Y1OoAXo0udgB",
    "outputId": "0091734e-46e0-4f8b-adde-39560c2a519e"
   },
   "outputs": [
    {
     "name": "stdout",
     "output_type": "stream",
     "text": [
      "accuracy:0.00\n",
      "\n",
      "\n",
      "confusion_matrix:\n",
      "[[0 0 0 0 0 0 0 0 0 0 0 0]\n",
      " [0 0 0 0 0 0 0 1 0 0 0 0]\n",
      " [1 0 0 0 0 0 0 0 0 0 0 0]\n",
      " [0 0 0 0 0 0 0 0 0 0 0 0]\n",
      " [0 0 0 0 0 0 0 0 0 0 0 0]\n",
      " [0 0 0 0 0 0 1 0 0 0 0 0]\n",
      " [0 0 0 0 0 0 0 0 0 0 0 0]\n",
      " [0 0 0 0 0 0 0 0 0 0 0 0]\n",
      " [0 0 0 0 0 0 0 0 0 0 0 0]\n",
      " [0 0 0 0 0 0 0 0 1 0 0 0]\n",
      " [0 0 0 0 1 0 0 0 0 0 0 0]\n",
      " [0 0 0 1 0 0 0 0 0 0 0 0]] \n",
      "\n",
      "\n",
      "----------------------------------------------------\n",
      "Classification Report:\n",
      "\n",
      "                                                               precision    recall  f1-score   support\n",
      "\n",
      "                   Bianconero da Tuveri Restaurant & Pizzeria       0.00      0.00      0.00       0.0\n",
      "                                         Danny's Place Kamala       0.00      0.00      0.00       1.0\n",
      "                                      Hey Ha Bar & Restaurant       0.00      0.00      0.00       1.0\n",
      "                                                   Kaab Gluay       0.00      0.00      0.00       0.0\n",
      "                                                Karon Seafood       0.00      0.00      0.00       0.0\n",
      "                                               Oiy Restaurant       0.00      0.00      0.00       1.0\n",
      "                                              Pond Restaurant       0.00      0.00      0.00       0.0\n",
      "                                                    Smile Bar       0.00      0.00      0.00       0.0\n",
      "                                                       Tantra       0.00      0.00      0.00       0.0\n",
      "                          Top Of The Reef at Cape Panwa Hotel       0.00      0.00      0.00       1.0\n",
      "Vanilla Sky Bar & Gastro Pub - Cape Sienna - Phuket, Thailand       0.00      0.00      0.00       1.0\n",
      "                                                 White Orchid       0.00      0.00      0.00       1.0\n",
      "\n",
      "                                                     accuracy                           0.00       6.0\n",
      "                                                    macro avg       0.00      0.00      0.00       6.0\n",
      "                                                 weighted avg       0.00      0.00      0.00       6.0\n",
      "\n"
     ]
    },
    {
     "name": "stderr",
     "output_type": "stream",
     "text": [
      "C:\\Users\\WV363MC\\Anaconda3\\lib\\site-packages\\sklearn\\metrics\\_classification.py:1318: UndefinedMetricWarning: Precision and F-score are ill-defined and being set to 0.0 in labels with no predicted samples. Use `zero_division` parameter to control this behavior.\n",
      "  _warn_prf(average, modifier, msg_start, len(result))\n",
      "C:\\Users\\WV363MC\\Anaconda3\\lib\\site-packages\\sklearn\\metrics\\_classification.py:1318: UndefinedMetricWarning: Recall and F-score are ill-defined and being set to 0.0 in labels with no true samples. Use `zero_division` parameter to control this behavior.\n",
      "  _warn_prf(average, modifier, msg_start, len(result))\n",
      "C:\\Users\\WV363MC\\Anaconda3\\lib\\site-packages\\sklearn\\metrics\\_classification.py:1318: UndefinedMetricWarning: Precision and F-score are ill-defined and being set to 0.0 in labels with no predicted samples. Use `zero_division` parameter to control this behavior.\n",
      "  _warn_prf(average, modifier, msg_start, len(result))\n",
      "C:\\Users\\WV363MC\\Anaconda3\\lib\\site-packages\\sklearn\\metrics\\_classification.py:1318: UndefinedMetricWarning: Recall and F-score are ill-defined and being set to 0.0 in labels with no true samples. Use `zero_division` parameter to control this behavior.\n",
      "  _warn_prf(average, modifier, msg_start, len(result))\n",
      "C:\\Users\\WV363MC\\Anaconda3\\lib\\site-packages\\sklearn\\metrics\\_classification.py:1318: UndefinedMetricWarning: Precision and F-score are ill-defined and being set to 0.0 in labels with no predicted samples. Use `zero_division` parameter to control this behavior.\n",
      "  _warn_prf(average, modifier, msg_start, len(result))\n",
      "C:\\Users\\WV363MC\\Anaconda3\\lib\\site-packages\\sklearn\\metrics\\_classification.py:1318: UndefinedMetricWarning: Recall and F-score are ill-defined and being set to 0.0 in labels with no true samples. Use `zero_division` parameter to control this behavior.\n",
      "  _warn_prf(average, modifier, msg_start, len(result))\n"
     ]
    }
   ],
   "source": [
    "y_pred = model.predict(x_test)\n",
    "\n",
    "#Accuracy\n",
    "from sklearn import metrics\n",
    "metrics.f1_score(y_test, y_pred, average='weighted', labels=np.unique(y_pred))\n",
    "acc=metrics.accuracy_score(y_test, y_pred)\n",
    "print('accuracy:%.2f\\n\\n'%(acc))\n",
    "cm = metrics.confusion_matrix(y_test, y_pred)\n",
    "print('confusion_matrix:')\n",
    "print(cm, '\\n\\n')\n",
    "print('----------------------------------------------------')\n",
    "result= metrics.classification_report(y_test, y_pred)\n",
    "print(\"Classification Report:\\n\")\n",
    "\n",
    "print(result)\n"
   ]
  },
  {
   "cell_type": "markdown",
   "metadata": {
    "id": "XmBFGXi6jNuV"
   },
   "source": [
    "SENTIMENT ANALYSIS"
   ]
  },
  {
   "cell_type": "code",
   "execution_count": 44,
   "metadata": {
    "colab": {
     "base_uri": "https://localhost:8080/"
    },
    "id": "9Qc76Ii-jQM0",
    "outputId": "869280f2-849d-4827-fb38-ac1d0dc03cae"
   },
   "outputs": [
    {
     "name": "stdout",
     "output_type": "stream",
     "text": [
      "['movi', 'great']\n",
      "['movi', 'great']\n"
     ]
    }
   ],
   "source": [
    "print(preprocess_text('This movie is great!'))\n",
    "print(preprocess_text('This movie is not great!'))"
   ]
  },
  {
   "cell_type": "code",
   "execution_count": 45,
   "metadata": {
    "colab": {
     "base_uri": "https://localhost:8080/"
    },
    "id": "coUzVomrowrb",
    "outputId": "259a2d18-ade1-4322-888b-d883b85b0866"
   },
   "outputs": [
    {
     "name": "stdout",
     "output_type": "stream",
     "text": [
      "{'neg': 0.0, 'neu': 0.406, 'pos': 0.594, 'compound': 0.6588}\n",
      "{'neg': 0.452, 'neu': 0.548, 'pos': 0.0, 'compound': -0.5096}\n"
     ]
    }
   ],
   "source": [
    "from nltk.sentiment.vader import SentimentIntensityAnalyzer\n",
    "\n",
    "sentiment = SentimentIntensityAnalyzer()\n",
    "\n",
    "print(sentiment.polarity_scores('This move is great!'))\n",
    "print(sentiment.polarity_scores('This move is not great'))"
   ]
  },
  {
   "cell_type": "code",
   "execution_count": 46,
   "metadata": {
    "colab": {
     "base_uri": "https://localhost:8080/",
     "height": 206
    },
    "id": "BM22FJZ1qfKz",
    "outputId": "6a8285af-df38-4ebb-9b22-32826445d016"
   },
   "outputs": [
    {
     "data": {
      "text/html": [
       "<div>\n",
       "<style scoped>\n",
       "    .dataframe tbody tr th:only-of-type {\n",
       "        vertical-align: middle;\n",
       "    }\n",
       "\n",
       "    .dataframe tbody tr th {\n",
       "        vertical-align: top;\n",
       "    }\n",
       "\n",
       "    .dataframe thead th {\n",
       "        text-align: right;\n",
       "    }\n",
       "</style>\n",
       "<table border=\"1\" class=\"dataframe\">\n",
       "  <thead>\n",
       "    <tr style=\"text-align: right;\">\n",
       "      <th></th>\n",
       "      <th>Unnamed: 0</th>\n",
       "      <th>Review Date</th>\n",
       "      <th>Location</th>\n",
       "      <th>Business_name</th>\n",
       "      <th>Review</th>\n",
       "    </tr>\n",
       "  </thead>\n",
       "  <tbody>\n",
       "    <tr>\n",
       "      <th>0</th>\n",
       "      <td>6138</td>\n",
       "      <td>Reviewed 5 days ago</td>\n",
       "      <td>Kamala</td>\n",
       "      <td>Grill Bill</td>\n",
       "      <td>The best place to eat when you want time out f...</td>\n",
       "    </tr>\n",
       "    <tr>\n",
       "      <th>1</th>\n",
       "      <td>32056</td>\n",
       "      <td>Reviewed September 23, 2017</td>\n",
       "      <td>Kamala</td>\n",
       "      <td>Mamma Mia Grill &amp; Restaurant Kamala</td>\n",
       "      <td>Watch the sunset on the beach while dining at ...</td>\n",
       "    </tr>\n",
       "    <tr>\n",
       "      <th>2</th>\n",
       "      <td>32031</td>\n",
       "      <td>Reviewed January 20, 2014</td>\n",
       "      <td>Kamala</td>\n",
       "      <td>Ohlala</td>\n",
       "      <td>Ate here twice and it was great. Wifi, really ...</td>\n",
       "    </tr>\n",
       "    <tr>\n",
       "      <th>3</th>\n",
       "      <td>31638</td>\n",
       "      <td>Reviewed March 14, 2018</td>\n",
       "      <td>Kamala</td>\n",
       "      <td>Pond Restaurant</td>\n",
       "      <td>The glass noodles were very good! Service was ...</td>\n",
       "    </tr>\n",
       "    <tr>\n",
       "      <th>4</th>\n",
       "      <td>33703</td>\n",
       "      <td>Reviewed November 14, 2017</td>\n",
       "      <td>Kamala</td>\n",
       "      <td>Bellini</td>\n",
       "      <td>Been twice during my short stay in Chalong and...</td>\n",
       "    </tr>\n",
       "  </tbody>\n",
       "</table>\n",
       "</div>"
      ],
      "text/plain": [
       "   Unnamed: 0                   Review Date Location  \\\n",
       "0        6138          Reviewed 5 days ago    Kamala   \n",
       "1       32056  Reviewed September 23, 2017    Kamala   \n",
       "2       32031    Reviewed January 20, 2014    Kamala   \n",
       "3       31638      Reviewed March 14, 2018    Kamala   \n",
       "4       33703   Reviewed November 14, 2017    Kamala   \n",
       "\n",
       "                         Business_name  \\\n",
       "0                           Grill Bill   \n",
       "1  Mamma Mia Grill & Restaurant Kamala   \n",
       "2                               Ohlala   \n",
       "3                      Pond Restaurant   \n",
       "4                              Bellini   \n",
       "\n",
       "                                              Review  \n",
       "0  The best place to eat when you want time out f...  \n",
       "1  Watch the sunset on the beach while dining at ...  \n",
       "2  Ate here twice and it was great. Wifi, really ...  \n",
       "3  The glass noodles were very good! Service was ...  \n",
       "4  Been twice during my short stay in Chalong and...  "
      ]
     },
     "execution_count": 46,
     "metadata": {},
     "output_type": "execute_result"
    }
   ],
   "source": [
    "#read review data\n",
    "review = pd.read_csv(\"review.csv\", encoding='cp1252')\n",
    "review.head()"
   ]
  },
  {
   "cell_type": "code",
   "execution_count": 47,
   "metadata": {
    "colab": {
     "base_uri": "https://localhost:8080/",
     "height": 300
    },
    "id": "5I3CrzJSrBg9",
    "outputId": "8f148be5-f203-44e1-91e9-f3771021e7b8"
   },
   "outputs": [
    {
     "data": {
      "text/html": [
       "<div>\n",
       "<style scoped>\n",
       "    .dataframe tbody tr th:only-of-type {\n",
       "        vertical-align: middle;\n",
       "    }\n",
       "\n",
       "    .dataframe tbody tr th {\n",
       "        vertical-align: top;\n",
       "    }\n",
       "\n",
       "    .dataframe thead th {\n",
       "        text-align: right;\n",
       "    }\n",
       "</style>\n",
       "<table border=\"1\" class=\"dataframe\">\n",
       "  <thead>\n",
       "    <tr style=\"text-align: right;\">\n",
       "      <th></th>\n",
       "      <th>Unnamed: 0</th>\n",
       "    </tr>\n",
       "  </thead>\n",
       "  <tbody>\n",
       "    <tr>\n",
       "      <th>count</th>\n",
       "      <td>30.000000</td>\n",
       "    </tr>\n",
       "    <tr>\n",
       "      <th>mean</th>\n",
       "      <td>27374.200000</td>\n",
       "    </tr>\n",
       "    <tr>\n",
       "      <th>std</th>\n",
       "      <td>13881.173543</td>\n",
       "    </tr>\n",
       "    <tr>\n",
       "      <th>min</th>\n",
       "      <td>6138.000000</td>\n",
       "    </tr>\n",
       "    <tr>\n",
       "      <th>25%</th>\n",
       "      <td>14764.750000</td>\n",
       "    </tr>\n",
       "    <tr>\n",
       "      <th>50%</th>\n",
       "      <td>24696.500000</td>\n",
       "    </tr>\n",
       "    <tr>\n",
       "      <th>75%</th>\n",
       "      <td>39154.000000</td>\n",
       "    </tr>\n",
       "    <tr>\n",
       "      <th>max</th>\n",
       "      <td>52407.000000</td>\n",
       "    </tr>\n",
       "  </tbody>\n",
       "</table>\n",
       "</div>"
      ],
      "text/plain": [
       "         Unnamed: 0\n",
       "count     30.000000\n",
       "mean   27374.200000\n",
       "std    13881.173543\n",
       "min     6138.000000\n",
       "25%    14764.750000\n",
       "50%    24696.500000\n",
       "75%    39154.000000\n",
       "max    52407.000000"
      ]
     },
     "execution_count": 47,
     "metadata": {},
     "output_type": "execute_result"
    }
   ],
   "source": [
    "review.describe()"
   ]
  },
  {
   "cell_type": "code",
   "execution_count": 48,
   "metadata": {
    "colab": {
     "base_uri": "https://localhost:8080/"
    },
    "id": "-O8bO1C6TOLt",
    "outputId": "81321926-511f-497b-f31c-15382bb25cec"
   },
   "outputs": [
    {
     "name": "stdout",
     "output_type": "stream",
     "text": [
      "<class 'pandas.core.frame.DataFrame'>\n",
      "RangeIndex: 30 entries, 0 to 29\n",
      "Data columns (total 5 columns):\n",
      " #   Column         Non-Null Count  Dtype \n",
      "---  ------         --------------  ----- \n",
      " 0   Unnamed: 0     30 non-null     int64 \n",
      " 1   Review Date    30 non-null     object\n",
      " 2   Location       30 non-null     object\n",
      " 3   Business_name  30 non-null     object\n",
      " 4   Review         30 non-null     object\n",
      "dtypes: int64(1), object(4)\n",
      "memory usage: 1.3+ KB\n"
     ]
    }
   ],
   "source": [
    "review.info()"
   ]
  },
  {
   "cell_type": "code",
   "execution_count": 49,
   "metadata": {
    "id": "2sWRZDSY0uly"
   },
   "outputs": [],
   "source": [
    "#Extract values from dictionary to make new columns with sentiment polarity scores\n",
    "review['compound'] = [sentiment.polarity_scores(review)['compound'] for review in review['Review']]\n",
    "review['neg'] = [sentiment.polarity_scores(review)['neg'] for review in review['Review']]\n",
    "review['neu'] = [sentiment.polarity_scores(review)['neu'] for review in review['Review']]\n",
    "review['pos']  = [sentiment.polarity_scores(review)['pos'] for review in review['Review']]"
   ]
  },
  {
   "cell_type": "code",
   "execution_count": 50,
   "metadata": {
    "colab": {
     "base_uri": "https://localhost:8080/",
     "height": 206
    },
    "id": "bf5hiA8_rwuQ",
    "outputId": "817fa386-5b47-434e-9b2c-1b099a3e4e00"
   },
   "outputs": [
    {
     "data": {
      "text/html": [
       "<div>\n",
       "<style scoped>\n",
       "    .dataframe tbody tr th:only-of-type {\n",
       "        vertical-align: middle;\n",
       "    }\n",
       "\n",
       "    .dataframe tbody tr th {\n",
       "        vertical-align: top;\n",
       "    }\n",
       "\n",
       "    .dataframe thead th {\n",
       "        text-align: right;\n",
       "    }\n",
       "</style>\n",
       "<table border=\"1\" class=\"dataframe\">\n",
       "  <thead>\n",
       "    <tr style=\"text-align: right;\">\n",
       "      <th></th>\n",
       "      <th>Unnamed: 0</th>\n",
       "      <th>Review Date</th>\n",
       "      <th>Location</th>\n",
       "      <th>Business_name</th>\n",
       "      <th>Review</th>\n",
       "      <th>compound</th>\n",
       "      <th>neg</th>\n",
       "      <th>neu</th>\n",
       "      <th>pos</th>\n",
       "    </tr>\n",
       "  </thead>\n",
       "  <tbody>\n",
       "    <tr>\n",
       "      <th>0</th>\n",
       "      <td>6138</td>\n",
       "      <td>Reviewed 5 days ago</td>\n",
       "      <td>Kamala</td>\n",
       "      <td>Grill Bill</td>\n",
       "      <td>The best place to eat when you want time out f...</td>\n",
       "      <td>0.9600</td>\n",
       "      <td>0.0</td>\n",
       "      <td>0.686</td>\n",
       "      <td>0.314</td>\n",
       "    </tr>\n",
       "    <tr>\n",
       "      <th>1</th>\n",
       "      <td>32056</td>\n",
       "      <td>Reviewed September 23, 2017</td>\n",
       "      <td>Kamala</td>\n",
       "      <td>Mamma Mia Grill &amp; Restaurant Kamala</td>\n",
       "      <td>Watch the sunset on the beach while dining at ...</td>\n",
       "      <td>0.9324</td>\n",
       "      <td>0.0</td>\n",
       "      <td>0.682</td>\n",
       "      <td>0.318</td>\n",
       "    </tr>\n",
       "    <tr>\n",
       "      <th>2</th>\n",
       "      <td>32031</td>\n",
       "      <td>Reviewed January 20, 2014</td>\n",
       "      <td>Kamala</td>\n",
       "      <td>Ohlala</td>\n",
       "      <td>Ate here twice and it was great. Wifi, really ...</td>\n",
       "      <td>0.5499</td>\n",
       "      <td>0.0</td>\n",
       "      <td>0.881</td>\n",
       "      <td>0.119</td>\n",
       "    </tr>\n",
       "    <tr>\n",
       "      <th>3</th>\n",
       "      <td>31638</td>\n",
       "      <td>Reviewed March 14, 2018</td>\n",
       "      <td>Kamala</td>\n",
       "      <td>Pond Restaurant</td>\n",
       "      <td>The glass noodles were very good! Service was ...</td>\n",
       "      <td>0.7703</td>\n",
       "      <td>0.0</td>\n",
       "      <td>0.718</td>\n",
       "      <td>0.282</td>\n",
       "    </tr>\n",
       "    <tr>\n",
       "      <th>4</th>\n",
       "      <td>33703</td>\n",
       "      <td>Reviewed November 14, 2017</td>\n",
       "      <td>Kamala</td>\n",
       "      <td>Bellini</td>\n",
       "      <td>Been twice during my short stay in Chalong and...</td>\n",
       "      <td>-0.2023</td>\n",
       "      <td>0.1</td>\n",
       "      <td>0.837</td>\n",
       "      <td>0.063</td>\n",
       "    </tr>\n",
       "  </tbody>\n",
       "</table>\n",
       "</div>"
      ],
      "text/plain": [
       "   Unnamed: 0                   Review Date Location  \\\n",
       "0        6138          Reviewed 5 days ago    Kamala   \n",
       "1       32056  Reviewed September 23, 2017    Kamala   \n",
       "2       32031    Reviewed January 20, 2014    Kamala   \n",
       "3       31638      Reviewed March 14, 2018    Kamala   \n",
       "4       33703   Reviewed November 14, 2017    Kamala   \n",
       "\n",
       "                         Business_name  \\\n",
       "0                           Grill Bill   \n",
       "1  Mamma Mia Grill & Restaurant Kamala   \n",
       "2                               Ohlala   \n",
       "3                      Pond Restaurant   \n",
       "4                              Bellini   \n",
       "\n",
       "                                              Review  compound  neg    neu  \\\n",
       "0  The best place to eat when you want time out f...    0.9600  0.0  0.686   \n",
       "1  Watch the sunset on the beach while dining at ...    0.9324  0.0  0.682   \n",
       "2  Ate here twice and it was great. Wifi, really ...    0.5499  0.0  0.881   \n",
       "3  The glass noodles were very good! Service was ...    0.7703  0.0  0.718   \n",
       "4  Been twice during my short stay in Chalong and...   -0.2023  0.1  0.837   \n",
       "\n",
       "     pos  \n",
       "0  0.314  \n",
       "1  0.318  \n",
       "2  0.119  \n",
       "3  0.282  \n",
       "4  0.063  "
      ]
     },
     "execution_count": 50,
     "metadata": {},
     "output_type": "execute_result"
    }
   ],
   "source": [
    "review.head() #confirm new columns have been added"
   ]
  },
  {
   "cell_type": "code",
   "execution_count": 51,
   "metadata": {
    "colab": {
     "base_uri": "https://localhost:8080/",
     "height": 300
    },
    "id": "6yIxqkYj0hND",
    "outputId": "c5395b39-18f0-48a2-cdd2-719b5b5b30b1"
   },
   "outputs": [
    {
     "data": {
      "text/html": [
       "<div>\n",
       "<style scoped>\n",
       "    .dataframe tbody tr th:only-of-type {\n",
       "        vertical-align: middle;\n",
       "    }\n",
       "\n",
       "    .dataframe tbody tr th {\n",
       "        vertical-align: top;\n",
       "    }\n",
       "\n",
       "    .dataframe thead th {\n",
       "        text-align: right;\n",
       "    }\n",
       "</style>\n",
       "<table border=\"1\" class=\"dataframe\">\n",
       "  <thead>\n",
       "    <tr style=\"text-align: right;\">\n",
       "      <th></th>\n",
       "      <th>compound</th>\n",
       "      <th>neg</th>\n",
       "      <th>neu</th>\n",
       "      <th>pos</th>\n",
       "    </tr>\n",
       "  </thead>\n",
       "  <tbody>\n",
       "    <tr>\n",
       "      <th>count</th>\n",
       "      <td>30.000000</td>\n",
       "      <td>30.000000</td>\n",
       "      <td>30.000000</td>\n",
       "      <td>30.000000</td>\n",
       "    </tr>\n",
       "    <tr>\n",
       "      <th>mean</th>\n",
       "      <td>0.670557</td>\n",
       "      <td>0.023967</td>\n",
       "      <td>0.733033</td>\n",
       "      <td>0.242967</td>\n",
       "    </tr>\n",
       "    <tr>\n",
       "      <th>std</th>\n",
       "      <td>0.419290</td>\n",
       "      <td>0.040065</td>\n",
       "      <td>0.118006</td>\n",
       "      <td>0.130174</td>\n",
       "    </tr>\n",
       "    <tr>\n",
       "      <th>min</th>\n",
       "      <td>-0.510600</td>\n",
       "      <td>0.000000</td>\n",
       "      <td>0.444000</td>\n",
       "      <td>0.000000</td>\n",
       "    </tr>\n",
       "    <tr>\n",
       "      <th>25%</th>\n",
       "      <td>0.684100</td>\n",
       "      <td>0.000000</td>\n",
       "      <td>0.685250</td>\n",
       "      <td>0.152500</td>\n",
       "    </tr>\n",
       "    <tr>\n",
       "      <th>50%</th>\n",
       "      <td>0.869900</td>\n",
       "      <td>0.000000</td>\n",
       "      <td>0.733000</td>\n",
       "      <td>0.247500</td>\n",
       "    </tr>\n",
       "    <tr>\n",
       "      <th>75%</th>\n",
       "      <td>0.917025</td>\n",
       "      <td>0.040750</td>\n",
       "      <td>0.808250</td>\n",
       "      <td>0.314000</td>\n",
       "    </tr>\n",
       "    <tr>\n",
       "      <th>max</th>\n",
       "      <td>0.960000</td>\n",
       "      <td>0.111000</td>\n",
       "      <td>1.000000</td>\n",
       "      <td>0.556000</td>\n",
       "    </tr>\n",
       "  </tbody>\n",
       "</table>\n",
       "</div>"
      ],
      "text/plain": [
       "        compound        neg        neu        pos\n",
       "count  30.000000  30.000000  30.000000  30.000000\n",
       "mean    0.670557   0.023967   0.733033   0.242967\n",
       "std     0.419290   0.040065   0.118006   0.130174\n",
       "min    -0.510600   0.000000   0.444000   0.000000\n",
       "25%     0.684100   0.000000   0.685250   0.152500\n",
       "50%     0.869900   0.000000   0.733000   0.247500\n",
       "75%     0.917025   0.040750   0.808250   0.314000\n",
       "max     0.960000   0.111000   1.000000   0.556000"
      ]
     },
     "execution_count": 51,
     "metadata": {},
     "output_type": "execute_result"
    }
   ],
   "source": [
    "review[['compound', 'neg', 'neu', 'pos']].describe() #confirm summary statistic of the sentiment polarity scores"
   ]
  },
  {
   "cell_type": "code",
   "execution_count": 52,
   "metadata": {
    "colab": {
     "base_uri": "https://localhost:8080/",
     "height": 296
    },
    "id": "okkIYDye1-2U",
    "outputId": "df9a35d6-58a6-4603-83a3-63826d9a2c4c"
   },
   "outputs": [
    {
     "data": {
      "text/plain": [
       "<AxesSubplot:xlabel='compound', ylabel='Count'>"
      ]
     },
     "execution_count": 52,
     "metadata": {},
     "output_type": "execute_result"
    },
    {
     "data": {
      "image/png": "[encoded data removed]",
      "text/plain": [
       "<Figure size 432x288 with 1 Axes>"
      ]
     },
     "metadata": {
      "needs_background": "light"
     },
     "output_type": "display_data"
    }
   ],
   "source": [
    "#Visualize sentiments distribution based on compound scores\n",
    "sns.histplot(review['compound'])"
   ]
  },
  {
   "cell_type": "code",
   "execution_count": 53,
   "metadata": {
    "colab": {
     "base_uri": "https://localhost:8080/",
     "height": 296
    },
    "id": "nKTBSgFW2INj",
    "outputId": "2c3b672c-a9a5-4a47-ac41-037318dacaa2"
   },
   "outputs": [
    {
     "data": {
      "text/plain": [
       "<AxesSubplot:xlabel='neg', ylabel='Count'>"
      ]
     },
     "execution_count": 53,
     "metadata": {},
     "output_type": "execute_result"
    },
    {
     "data": {
      "image/png": "[encoded data removed]",
      "text/plain": [
       "<Figure size 432x288 with 1 Axes>"
      ]
     },
     "metadata": {
      "needs_background": "light"
     },
     "output_type": "display_data"
    }
   ],
   "source": [
    "#Visualize sentiments distribution based on negative scores\n",
    "sns.histplot(review['neg'])"
   ]
  },
  {
   "cell_type": "code",
   "execution_count": 54,
   "metadata": {
    "colab": {
     "base_uri": "https://localhost:8080/",
     "height": 296
    },
    "id": "5VVNb6v32YCQ",
    "outputId": "8b73b50a-17fc-4e1a-a7de-2aeb9c4bf822"
   },
   "outputs": [
    {
     "data": {
      "text/plain": [
       "<AxesSubplot:xlabel='neu', ylabel='Count'>"
      ]
     },
     "execution_count": 54,
     "metadata": {},
     "output_type": "execute_result"
    },
    {
     "data": {
      "image/png": "[encoded data removed]",
      "text/plain": [
       "<Figure size 432x288 with 1 Axes>"
      ]
     },
     "metadata": {
      "needs_background": "light"
     },
     "output_type": "display_data"
    }
   ],
   "source": [
    "#Visualize sentiments distribution based on neutral scores\n",
    "sns.histplot(review['neu'])"
   ]
  },
  {
   "cell_type": "code",
   "execution_count": 55,
   "metadata": {
    "colab": {
     "base_uri": "https://localhost:8080/",
     "height": 296
    },
    "id": "yJHYwnsI2Zhl",
    "outputId": "500c7a62-0721-48f1-e3b1-9efedbdd9c4e"
   },
   "outputs": [
    {
     "data": {
      "text/plain": [
       "<AxesSubplot:xlabel='pos', ylabel='Count'>"
      ]
     },
     "execution_count": 55,
     "metadata": {},
     "output_type": "execute_result"
    },
    {
     "data": {
      "image/png": "[encoded data removed]",
      "text/plain": [
       "<Figure size 432x288 with 1 Axes>"
      ]
     },
     "metadata": {
      "needs_background": "light"
     },
     "output_type": "display_data"
    }
   ],
   "source": [
    "#Visualize sentiments distribution based on positive scores\n",
    "sns.histplot(review['pos'])"
   ]
  },
  {
   "cell_type": "code",
   "execution_count": 56,
   "metadata": {
    "colab": {
     "base_uri": "https://localhost:8080/"
    },
    "id": "4toj0u0x2byX",
    "outputId": "65f55537-d5d5-4810-c76b-71e29852c048"
   },
   "outputs": [
    {
     "data": {
      "text/plain": [
       "Business_name\n",
       "Baan Mai                                                         0\n",
       "Baan Rim Pa Kalim                                                0\n",
       "Bellini                                                          1\n",
       "Bianconero da Tuveri Restaurant & Pizzeria                       0\n",
       "Blue Manao                                                       0\n",
       "Cafe del Mar Phuket                                              1\n",
       "Danny's Place Kamala                                             1\n",
       "Grill Bill                                                       0\n",
       "H.C. Andersen - Family Restaurant                                1\n",
       "HQ Beach Lounge                                                  0\n",
       "Heaven                                                           0\n",
       "Hey Ha Bar & Restaurant                                          0\n",
       "Kaab Gluay                                                       0\n",
       "Karon Seafood                                                    0\n",
       "Mamma Mia Grill & Restaurant Kamala                              0\n",
       "Napoli Ristorante Pizzeria                                       0\n",
       "Ohlala                                                           0\n",
       "Oiy Restaurant                                                   0\n",
       "Pond Restaurant                                                  0\n",
       "Salt & Pepper Restaurant Steakhouse Pizzeria                     0\n",
       "Smile Bar                                                        0\n",
       "Sweet Dream Restaurant                                           0\n",
       "THE DECK                                                         0\n",
       "Tantra                                                           0\n",
       "The Greek Tavern                                                 0\n",
       "The Place                                                        0\n",
       "Top Of The Reef at Cape Panwa Hotel                              0\n",
       "Vanilla Sky Bar & Gastro Pub - Cape Sienna - Phuket, Thailand    0\n",
       "White Orchid                                                     0\n",
       "Wine Connection Deli & Bistro - Central Phuket                   0\n",
       "Name: compound, dtype: int64"
      ]
     },
     "execution_count": 56,
     "metadata": {},
     "output_type": "execute_result"
    }
   ],
   "source": [
    "#Find out sum of negative reviews per product\n",
    "(review['compound']<=0).groupby(review['Business_name']).sum()"
   ]
  },
  {
   "cell_type": "code",
   "execution_count": 57,
   "metadata": {
    "colab": {
     "base_uri": "https://localhost:8080/",
     "height": 1000
    },
    "id": "S4vi2Z263FrB",
    "outputId": "d1e351b2-d37a-4e5a-a643-6b2e35227cd6"
   },
   "outputs": [
    {
     "data": {
      "text/html": [
       "<div>\n",
       "<style scoped>\n",
       "    .dataframe tbody tr th:only-of-type {\n",
       "        vertical-align: middle;\n",
       "    }\n",
       "\n",
       "    .dataframe tbody tr th {\n",
       "        vertical-align: top;\n",
       "    }\n",
       "\n",
       "    .dataframe thead th {\n",
       "        text-align: right;\n",
       "    }\n",
       "</style>\n",
       "<table border=\"1\" class=\"dataframe\">\n",
       "  <thead>\n",
       "    <tr style=\"text-align: right;\">\n",
       "      <th></th>\n",
       "      <th>% negative reviews</th>\n",
       "    </tr>\n",
       "    <tr>\n",
       "      <th>Business_name</th>\n",
       "      <th></th>\n",
       "    </tr>\n",
       "  </thead>\n",
       "  <tbody>\n",
       "    <tr>\n",
       "      <th>Baan Mai</th>\n",
       "      <td>0.0</td>\n",
       "    </tr>\n",
       "    <tr>\n",
       "      <th>Vanilla Sky Bar &amp; Gastro Pub - Cape Sienna - Phuket, Thailand</th>\n",
       "      <td>0.0</td>\n",
       "    </tr>\n",
       "    <tr>\n",
       "      <th>Top Of The Reef at Cape Panwa Hotel</th>\n",
       "      <td>0.0</td>\n",
       "    </tr>\n",
       "    <tr>\n",
       "      <th>The Place</th>\n",
       "      <td>0.0</td>\n",
       "    </tr>\n",
       "    <tr>\n",
       "      <th>The Greek Tavern</th>\n",
       "      <td>0.0</td>\n",
       "    </tr>\n",
       "    <tr>\n",
       "      <th>Tantra</th>\n",
       "      <td>0.0</td>\n",
       "    </tr>\n",
       "    <tr>\n",
       "      <th>THE DECK</th>\n",
       "      <td>0.0</td>\n",
       "    </tr>\n",
       "    <tr>\n",
       "      <th>Sweet Dream Restaurant</th>\n",
       "      <td>0.0</td>\n",
       "    </tr>\n",
       "    <tr>\n",
       "      <th>Smile Bar</th>\n",
       "      <td>0.0</td>\n",
       "    </tr>\n",
       "    <tr>\n",
       "      <th>Salt &amp; Pepper Restaurant Steakhouse Pizzeria</th>\n",
       "      <td>0.0</td>\n",
       "    </tr>\n",
       "    <tr>\n",
       "      <th>Pond Restaurant</th>\n",
       "      <td>0.0</td>\n",
       "    </tr>\n",
       "    <tr>\n",
       "      <th>Oiy Restaurant</th>\n",
       "      <td>0.0</td>\n",
       "    </tr>\n",
       "    <tr>\n",
       "      <th>Ohlala</th>\n",
       "      <td>0.0</td>\n",
       "    </tr>\n",
       "    <tr>\n",
       "      <th>Napoli Ristorante Pizzeria</th>\n",
       "      <td>0.0</td>\n",
       "    </tr>\n",
       "    <tr>\n",
       "      <th>Mamma Mia Grill &amp; Restaurant Kamala</th>\n",
       "      <td>0.0</td>\n",
       "    </tr>\n",
       "    <tr>\n",
       "      <th>Karon Seafood</th>\n",
       "      <td>0.0</td>\n",
       "    </tr>\n",
       "    <tr>\n",
       "      <th>Kaab Gluay</th>\n",
       "      <td>0.0</td>\n",
       "    </tr>\n",
       "    <tr>\n",
       "      <th>Hey Ha Bar &amp; Restaurant</th>\n",
       "      <td>0.0</td>\n",
       "    </tr>\n",
       "    <tr>\n",
       "      <th>Heaven</th>\n",
       "      <td>0.0</td>\n",
       "    </tr>\n",
       "    <tr>\n",
       "      <th>HQ Beach Lounge</th>\n",
       "      <td>0.0</td>\n",
       "    </tr>\n",
       "    <tr>\n",
       "      <th>Grill Bill</th>\n",
       "      <td>0.0</td>\n",
       "    </tr>\n",
       "    <tr>\n",
       "      <th>Blue Manao</th>\n",
       "      <td>0.0</td>\n",
       "    </tr>\n",
       "    <tr>\n",
       "      <th>Bianconero da Tuveri Restaurant &amp; Pizzeria</th>\n",
       "      <td>0.0</td>\n",
       "    </tr>\n",
       "    <tr>\n",
       "      <th>Baan Rim Pa Kalim</th>\n",
       "      <td>0.0</td>\n",
       "    </tr>\n",
       "    <tr>\n",
       "      <th>White Orchid</th>\n",
       "      <td>0.0</td>\n",
       "    </tr>\n",
       "    <tr>\n",
       "      <th>Wine Connection Deli &amp; Bistro - Central Phuket</th>\n",
       "      <td>0.0</td>\n",
       "    </tr>\n",
       "    <tr>\n",
       "      <th>H.C. Andersen - Family Restaurant</th>\n",
       "      <td>100.0</td>\n",
       "    </tr>\n",
       "    <tr>\n",
       "      <th>Danny's Place Kamala</th>\n",
       "      <td>100.0</td>\n",
       "    </tr>\n",
       "    <tr>\n",
       "      <th>Cafe del Mar Phuket</th>\n",
       "      <td>100.0</td>\n",
       "    </tr>\n",
       "    <tr>\n",
       "      <th>Bellini</th>\n",
       "      <td>100.0</td>\n",
       "    </tr>\n",
       "  </tbody>\n",
       "</table>\n",
       "</div>"
      ],
      "text/plain": [
       "                                                    % negative reviews\n",
       "Business_name                                                         \n",
       "Baan Mai                                                           0.0\n",
       "Vanilla Sky Bar & Gastro Pub - Cape Sienna - Ph...                 0.0\n",
       "Top Of The Reef at Cape Panwa Hotel                                0.0\n",
       "The Place                                                          0.0\n",
       "The Greek Tavern                                                   0.0\n",
       "Tantra                                                             0.0\n",
       "THE DECK                                                           0.0\n",
       "Sweet Dream Restaurant                                             0.0\n",
       "Smile Bar                                                          0.0\n",
       "Salt & Pepper Restaurant Steakhouse Pizzeria                       0.0\n",
       "Pond Restaurant                                                    0.0\n",
       "Oiy Restaurant                                                     0.0\n",
       "Ohlala                                                             0.0\n",
       "Napoli Ristorante Pizzeria                                         0.0\n",
       "Mamma Mia Grill & Restaurant Kamala                                0.0\n",
       "Karon Seafood                                                      0.0\n",
       "Kaab Gluay                                                         0.0\n",
       "Hey Ha Bar & Restaurant                                            0.0\n",
       "Heaven                                                             0.0\n",
       "HQ Beach Lounge                                                    0.0\n",
       "Grill Bill                                                         0.0\n",
       "Blue Manao                                                         0.0\n",
       "Bianconero da Tuveri Restaurant & Pizzeria                         0.0\n",
       "Baan Rim Pa Kalim                                                  0.0\n",
       "White Orchid                                                       0.0\n",
       "Wine Connection Deli & Bistro - Central Phuket                     0.0\n",
       "H.C. Andersen - Family Restaurant                                100.0\n",
       "Danny's Place Kamala                                             100.0\n",
       "Cafe del Mar Phuket                                              100.0\n",
       "Bellini                                                          100.0"
      ]
     },
     "execution_count": 57,
     "metadata": {},
     "output_type": "execute_result"
    }
   ],
   "source": [
    "#Calculate as percentage of total reviews\n",
    "\n",
    "percent_negative = pd.DataFrame((review['compound']<=0).groupby(review['Business_name']).sum()\n",
    "/review['Business_name'].groupby(review['Business_name']).count()*100,\n",
    "columns=['% negative reviews']).sort_values(by='% negative reviews')\n",
    "\n",
    "percent_negative"
   ]
  },
  {
   "cell_type": "code",
   "execution_count": 58,
   "metadata": {
    "colab": {
     "base_uri": "https://localhost:8080/",
     "height": 297
    },
    "id": "ZxzljdCD4TBf",
    "outputId": "175914c0-b646-4a83-8ccb-8ec9316dd437"
   },
   "outputs": [
    {
     "data": {
      "text/plain": [
       "<AxesSubplot:xlabel='% negative reviews', ylabel='Business_name'>"
      ]
     },
     "execution_count": 58,
     "metadata": {},
     "output_type": "execute_result"
    },
    {
     "data": {
      "image/png": "[encoded data removed]",
      "text/plain": [
       "<Figure size 432x288 with 1 Axes>"
      ]
     },
     "metadata": {
      "needs_background": "light"
     },
     "output_type": "display_data"
    }
   ],
   "source": [
    "sns.barplot(data=percent_negative, x='% negative reviews', y=percent_negative.index, color='c')"
   ]
  },
  {
   "cell_type": "code",
   "execution_count": 59,
   "metadata": {
    "colab": {
     "base_uri": "https://localhost:8080/",
     "height": 366
    },
    "id": "9Yn3nbGsqcTe",
    "outputId": "924b1ebf-c022-491f-d66f-73324b9f1ed2"
   },
   "outputs": [
    {
     "data": {
      "image/png": "[encoded data removed]",
      "text/plain": [
       "<Figure size 864x864 with 1 Axes>"
      ]
     },
     "metadata": {
      "needs_background": "light"
     },
     "output_type": "display_data"
    }
   ],
   "source": [
    "# Word cloud visualization.\n",
    "from wordcloud import WordCloud\n",
    "import seaborn as sns\n",
    "import matplotlib.pyplot as plt\n",
    "\n",
    "allWords = ' '.join([twts for twts in review['Review']])\n",
    "wordCloud = WordCloud(background_color= 'white', random_state=21, max_font_size=110).generate(allWords)\n",
    "plt.figure(figsize=(12,12))\n",
    "plt.imshow(wordCloud, interpolation=\"bilinear\")\n",
    "plt.axis('off')\n",
    "plt.show()"
   ]
  },
  {
   "cell_type": "code",
   "execution_count": 60,
   "metadata": {
    "colab": {
     "base_uri": "https://localhost:8080/",
     "height": 250
    },
    "id": "6bycvHjmrJrj",
    "outputId": "9e5889bc-9a4d-4b0a-bd1a-589de4c109bc"
   },
   "outputs": [
    {
     "data": {
      "text/html": [
       "<div>\n",
       "<style scoped>\n",
       "    .dataframe tbody tr th:only-of-type {\n",
       "        vertical-align: middle;\n",
       "    }\n",
       "\n",
       "    .dataframe tbody tr th {\n",
       "        vertical-align: top;\n",
       "    }\n",
       "\n",
       "    .dataframe thead th {\n",
       "        text-align: right;\n",
       "    }\n",
       "</style>\n",
       "<table border=\"1\" class=\"dataframe\">\n",
       "  <thead>\n",
       "    <tr style=\"text-align: right;\">\n",
       "      <th></th>\n",
       "      <th>Unnamed: 0</th>\n",
       "      <th>Review Date</th>\n",
       "      <th>Location</th>\n",
       "      <th>Business_name</th>\n",
       "      <th>Review</th>\n",
       "      <th>compound</th>\n",
       "      <th>neg</th>\n",
       "      <th>neu</th>\n",
       "      <th>pos</th>\n",
       "      <th>sentiment</th>\n",
       "    </tr>\n",
       "  </thead>\n",
       "  <tbody>\n",
       "    <tr>\n",
       "      <th>0</th>\n",
       "      <td>6138</td>\n",
       "      <td>Reviewed 5 days ago</td>\n",
       "      <td>Kamala</td>\n",
       "      <td>Grill Bill</td>\n",
       "      <td>The best place to eat when you want time out f...</td>\n",
       "      <td>0.9600</td>\n",
       "      <td>0.0</td>\n",
       "      <td>0.686</td>\n",
       "      <td>0.314</td>\n",
       "      <td>Positive</td>\n",
       "    </tr>\n",
       "    <tr>\n",
       "      <th>1</th>\n",
       "      <td>32056</td>\n",
       "      <td>Reviewed September 23, 2017</td>\n",
       "      <td>Kamala</td>\n",
       "      <td>Mamma Mia Grill &amp; Restaurant Kamala</td>\n",
       "      <td>Watch the sunset on the beach while dining at ...</td>\n",
       "      <td>0.9324</td>\n",
       "      <td>0.0</td>\n",
       "      <td>0.682</td>\n",
       "      <td>0.318</td>\n",
       "      <td>Positive</td>\n",
       "    </tr>\n",
       "    <tr>\n",
       "      <th>2</th>\n",
       "      <td>32031</td>\n",
       "      <td>Reviewed January 20, 2014</td>\n",
       "      <td>Kamala</td>\n",
       "      <td>Ohlala</td>\n",
       "      <td>Ate here twice and it was great. Wifi, really ...</td>\n",
       "      <td>0.5499</td>\n",
       "      <td>0.0</td>\n",
       "      <td>0.881</td>\n",
       "      <td>0.119</td>\n",
       "      <td>Positive</td>\n",
       "    </tr>\n",
       "    <tr>\n",
       "      <th>3</th>\n",
       "      <td>31638</td>\n",
       "      <td>Reviewed March 14, 2018</td>\n",
       "      <td>Kamala</td>\n",
       "      <td>Pond Restaurant</td>\n",
       "      <td>The glass noodles were very good! Service was ...</td>\n",
       "      <td>0.7703</td>\n",
       "      <td>0.0</td>\n",
       "      <td>0.718</td>\n",
       "      <td>0.282</td>\n",
       "      <td>Positive</td>\n",
       "    </tr>\n",
       "    <tr>\n",
       "      <th>4</th>\n",
       "      <td>33703</td>\n",
       "      <td>Reviewed November 14, 2017</td>\n",
       "      <td>Kamala</td>\n",
       "      <td>Bellini</td>\n",
       "      <td>Been twice during my short stay in Chalong and...</td>\n",
       "      <td>-0.2023</td>\n",
       "      <td>0.1</td>\n",
       "      <td>0.837</td>\n",
       "      <td>0.063</td>\n",
       "      <td>Negative</td>\n",
       "    </tr>\n",
       "  </tbody>\n",
       "</table>\n",
       "</div>"
      ],
      "text/plain": [
       "   Unnamed: 0                   Review Date Location  \\\n",
       "0        6138          Reviewed 5 days ago    Kamala   \n",
       "1       32056  Reviewed September 23, 2017    Kamala   \n",
       "2       32031    Reviewed January 20, 2014    Kamala   \n",
       "3       31638      Reviewed March 14, 2018    Kamala   \n",
       "4       33703   Reviewed November 14, 2017    Kamala   \n",
       "\n",
       "                         Business_name  \\\n",
       "0                           Grill Bill   \n",
       "1  Mamma Mia Grill & Restaurant Kamala   \n",
       "2                               Ohlala   \n",
       "3                      Pond Restaurant   \n",
       "4                              Bellini   \n",
       "\n",
       "                                              Review  compound  neg    neu  \\\n",
       "0  The best place to eat when you want time out f...    0.9600  0.0  0.686   \n",
       "1  Watch the sunset on the beach while dining at ...    0.9324  0.0  0.682   \n",
       "2  Ate here twice and it was great. Wifi, really ...    0.5499  0.0  0.881   \n",
       "3  The glass noodles were very good! Service was ...    0.7703  0.0  0.718   \n",
       "4  Been twice during my short stay in Chalong and...   -0.2023  0.1  0.837   \n",
       "\n",
       "     pos sentiment  \n",
       "0  0.314  Positive  \n",
       "1  0.318  Positive  \n",
       "2  0.119  Positive  \n",
       "3  0.282  Positive  \n",
       "4  0.063  Negative  "
      ]
     },
     "execution_count": 60,
     "metadata": {},
     "output_type": "execute_result"
    }
   ],
   "source": [
    "#We will now create a function to compute the negative (-1), neutral (0), and positive (+1) sentiments, and add a new column named sentiment to our data frame.\n",
    "def getAnalysis(score):\n",
    " if score < 0:\n",
    "    return 'Negative'\n",
    " elif score == 0:\n",
    "    return 'Neutral'\n",
    " else:\n",
    "    return 'Positive'\n",
    "\n",
    "review['sentiment'] = review['compound'].apply(getAnalysis)\n",
    "\n",
    "review.head(5)"
   ]
  },
  {
   "cell_type": "code",
   "execution_count": 61,
   "metadata": {
    "colab": {
     "base_uri": "https://localhost:8080/"
    },
    "id": "-qEnAqIZriIf",
    "outputId": "2477bf37-e5b2-4d72-c85d-557582e37633"
   },
   "outputs": [
    {
     "data": {
      "text/plain": [
       "Positive    26\n",
       "Negative     3\n",
       "Neutral      1\n",
       "Name: sentiment, dtype: int64"
      ]
     },
     "execution_count": 61,
     "metadata": {},
     "output_type": "execute_result"
    }
   ],
   "source": [
    "review['sentiment'].value_counts() #Out of 30 businesses we can see that 26 have positive reviews, this aligns with what we can see in the word cloud"
   ]
  },
  {
   "cell_type": "code",
   "execution_count": 63,
   "metadata": {},
   "outputs": [],
   "source": [
    "reviewed = review.to_csv('review_sentiments.csv') #save copy in virtual machine"
   ]
  },
  {
   "cell_type": "code",
   "execution_count": 64,
   "metadata": {
    "colab": {
     "base_uri": "https://localhost:8080/",
     "height": 330
    },
    "id": "4aYMIjaLrtZV",
    "outputId": "bd8d4e51-f96b-4b80-bc48-713d52105dc2"
   },
   "outputs": [
    {
     "data": {
      "image/png": "[encoded data removed]",
      "text/plain": [
       "<Figure size 432x288 with 1 Axes>"
      ]
     },
     "metadata": {
      "needs_background": "light"
     },
     "output_type": "display_data"
    }
   ],
   "source": [
    "plt.title('Sentiment Analysis')\n",
    "plt.xlabel('Sentiment')\n",
    "plt.ylabel('Counts')\n",
    "review['sentiment'].value_counts().plot(kind = 'bar')\n",
    "plt.show()"
   ]
  },
  {
   "cell_type": "code",
   "execution_count": 65,
   "metadata": {
    "colab": {
     "base_uri": "https://localhost:8080/",
     "height": 374
    },
    "id": "lqjDs2GLoOkG",
    "outputId": "61751170-af9b-41a2-cbf9-ea102417d0cd"
   },
   "outputs": [
    {
     "data": {
      "text/plain": [
       "Text(0, 0.5, 'Tourist Reviews Sentiment')"
      ]
     },
     "execution_count": 65,
     "metadata": {},
     "output_type": "execute_result"
    },
    {
     "data": {
      "image/png": "[encoded data removed]",
      "text/plain": [
       "<Figure size 648x432 with 1 Axes>"
      ]
     },
     "metadata": {},
     "output_type": "display_data"
    }
   ],
   "source": [
    "review.sentiment.value_counts().plot(kind='pie', autopct='%1.0f%%',  fontsize=12, figsize=(9,6), colors=[\"green\", \"red\", \"yellow\"])\n",
    "plt.ylabel(\"Tourist Reviews Sentiment\", size=14)"
   ]
  },
  {
   "cell_type": "code",
   "execution_count": null,
   "metadata": {},
   "outputs": [],
   "source": [
    "rf = review[['Review Date', 'Location', 'Business_name', 'Review', 'sentiment']]"
   ]
  },
  {
   "cell_type": "code",
   "execution_count": null,
   "metadata": {},
   "outputs": [],
   "source": [
    "rf.info()"
   ]
  },
  {
   "cell_type": "code",
   "execution_count": null,
   "metadata": {},
   "outputs": [],
   "source": [
    "rf.sentiment.unique()"
   ]
  },
  {
   "cell_type": "code",
   "execution_count": null,
   "metadata": {},
   "outputs": [],
   "source": [
    "index = rf[ (rf['sentiment'] == 'Neutral') ].index\n",
    "rf.drop(index , inplace=True)\n",
    "rf.head(50)"
   ]
  },
  {
   "cell_type": "code",
   "execution_count": null,
   "metadata": {},
   "outputs": [],
   "source": [
    "rf['Review'] = rf['Review'].apply(preprocess_text) #apply preprocessing to review colum\n",
    "\n",
    "rf.head()"
   ]
  },
  {
   "cell_type": "code",
   "execution_count": null,
   "metadata": {},
   "outputs": [],
   "source": [
    "from sklearn.feature_extraction.text import CountVectorizer \n",
    "from sklearn.feature_extraction.text import TfidfVectorizer\n",
    "\n",
    "vectorizer = CountVectorizer()\n",
    "X = vectorizer.fit_transform(rf['Review'].map(' '.join))\n",
    "X = pd.DataFrame(X.toarray(),columns=vectorizer.get_feature_names_out())\n",
    "\n",
    "X.head()"
   ]
  },
  {
   "cell_type": "code",
   "execution_count": null,
   "metadata": {},
   "outputs": [],
   "source": [
    "from sklearn.model_selection import train_test_split\n",
    "\n",
    "Y= rf['sentiment']\n",
    "\n",
    "x_train, x_test, y_train, y_test = train_test_split(\n",
    "    X, Y, train_size=0.8, test_size=0.2, random_state=99)\n",
    "\n",
    "sns.countplot(x=rf['sentiment']) #The target column looks balanced so we proceed to modelling"
   ]
  },
  {
   "cell_type": "code",
   "execution_count": null,
   "metadata": {},
   "outputs": [],
   "source": [
    "from sklearn.naive_bayes import MultinomialNB\n",
    "\n",
    "model = MultinomialNB()\n",
    "model.fit(x_train, y_train)\n",
    "\n",
    "MultinomialNB()\n"
   ]
  },
  {
   "cell_type": "code",
   "execution_count": null,
   "metadata": {},
   "outputs": [],
   "source": [
    "y_pred = model.predict(x_test)\n",
    "\n",
    "#Accuracy\n",
    "from sklearn import metrics\n",
    "metrics.f1_score(y_test, y_pred, average='weighted', labels=np.unique(y_pred))\n",
    "acc=metrics.accuracy_score(y_test, y_pred)\n",
    "print('accuracy:%.2f\\n\\n'%(acc))\n",
    "cm = metrics.confusion_matrix(y_test, y_pred)\n",
    "print('confusion_matrix:')\n",
    "print(cm, '\\n\\n')\n",
    "print('----------------------------------------------------')\n",
    "result= metrics.classification_report(y_test, y_pred)\n",
    "print(\"Classification Report:\\n\")\n",
    "\n",
    "print(result)"
   ]
  },
  {
   "cell_type": "code",
   "execution_count": null,
   "metadata": {},
   "outputs": [],
   "source": [
    "model.classes_"
   ]
  },
  {
   "cell_type": "code",
   "execution_count": null,
   "metadata": {},
   "outputs": [],
   "source": [
    "import seaborn as sns\n",
    "import matplotlib.pyplot as plt     \n",
    "\n",
    "ax= plt.subplot()\n",
    "sns.heatmap(cm, annot=True, fmt='g', ax=ax, cmap='Greens');  #annot=True to annotate cells, ftm='g' to disable scientific notation\n",
    "\n",
    "# labels, title and ticks\n",
    "ax.set_xlabel('Predicted labels');ax.set_ylabel('True labels'); \n",
    "ax.set_title('Confusion Matrix'); \n",
    "ax.xaxis.set_ticklabels(['Negative', 'Positive']); ax.yaxis.set_ticklabels(['Positive', 'Negative']);"
   ]
  },
  {
   "cell_type": "code",
   "execution_count": null,
   "metadata": {},
   "outputs": [],
   "source": [
    "#!pip install mlflow --user"
   ]
  },
  {
   "cell_type": "code",
   "execution_count": null,
   "metadata": {},
   "outputs": [],
   "source": [
    "import mlflow\n",
    "experiment_name = \"mlflow_exp\"\n",
    "mlflow.set_experiment(experiment_name)"
   ]
  },
  {
   "cell_type": "code",
   "execution_count": null,
   "metadata": {},
   "outputs": [],
   "source": [
    "mlflow.log_metric(\"accuracy\", acc)\n",
    "mlflow.sklearn.log_model(model, \"model\")\n",
    "mlflow.end_run()"
   ]
  },
  {
   "cell_type": "code",
   "execution_count": null,
   "metadata": {},
   "outputs": [],
   "source": [
    "!mlflow ui"
   ]
  },
  {
   "cell_type": "code",
   "execution_count": null,
   "metadata": {},
   "outputs": [],
   "source": []
  }
 ],
 "metadata": {
  "colab": {
   "machine_shape": "hm",
   "provenance": []
  },
  "kernelspec": {
   "display_name": "Python 3 (ipykernel)",
   "language": "python",
   "name": "python3"
  },
  "language_info": {
   "codemirror_mode": {
    "name": "ipython",
    "version": 3
   },
   "file_extension": ".py",
   "mimetype": "text/x-python",
   "name": "python",
   "nbconvert_exporter": "python",
   "pygments_lexer": "ipython3",
   "version": "3.9.12"
  }
 },
 "nbformat": 4,
 "nbformat_minor": 1
}
